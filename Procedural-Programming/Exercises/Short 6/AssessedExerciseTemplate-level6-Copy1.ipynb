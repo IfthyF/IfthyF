{
 "cells": [
  {
   "cell_type": "markdown",
   "metadata": {},
   "source": [
    "# Short Assessed Exercise\n",
    "# Level  6\n",
    "## Ifthy Fairoze\n",
    "## 31 October 2020\n",
    "## Version 1\n"
   ]
  },
  {
   "cell_type": "markdown",
   "metadata": {},
   "source": [
    "## Summary of the Question \n",
    "\n",
    "Write a program that is to be used to count how many passengers are travelling on buses that pass a particular bus stop in a given hour. It should use a while loop to repeatedly ask the user to give the number of passengers on the bus that just passed. It should stop when the special code X is entered as the number of passengers. It should then give the number of buses and the total number of passengers counted in that hour. \n",
    "For example, one run might be as follows.\n",
    "```\n",
    "How many passengers were on the bus? 2 \n",
    "How many passengers were on the bus? 5 \n",
    "How many passengers were on the bus? 10 \n",
    "How many passengers were on the bus? 3 \n",
    "How many passengers were on the bus? 12 \n",
    "How many passengers were on the bus? 1 \n",
    "How many passengers were on the bus? 0 \n",
    "How many passengers were on the bus? X\n",
    "\n",
    "There were a total of 33 passengers on 7 buses.\n",
    "```"
   ]
  },
  {
   "cell_type": "markdown",
   "metadata": {},
   "source": [
    "## The literate program development\n",
    "Building on the what I have learned in from the ECS401U Jupyter Notebook, to answer the question, I created two methods of inputString and busDetails. For each method, I will explain about the method, what is does and how I tested it and provide the code of the method itself. Next, I show how to run the solution to the question. Each code fragment can be run in Jupyter notebooks, here. Finally, I show the full program that can only be run outside of notebooks, along with instructions on how to do this and a summary of the structure of the full program."
   ]
  },
  {
   "cell_type": "markdown",
   "metadata": {},
   "source": [
    "### inputString\n",
    "\n",
    "#### What it does\n",
    "This method takes a question (String type) which is printed and waits for the user to give a response to that question (which is also a string type) which is returned.\n",
    "\n",
    "#### Implementation (how it works)\n",
    "In the first line it sets up a local scanner to the method, linked to the keyboard. This makes avaliable the method scanner.nextLine(). The question asking is then printed and then nextLine then allows the user to type a response which is read and stored in the answer variable (which is declared as a string). Then this response in answer is returned as a result of this method."
   ]
  },
  {
   "cell_type": "code",
   "execution_count": 2,
   "metadata": {},
   "outputs": [],
   "source": [
    "/* This method prints out a question to the user and then the user has to give a response\n",
    "typed as the answer which is returned. */\n",
    "public static String inputString(String message)\n",
    "{\n",
    "    Scanner scanner = new Scanner(System.in);\n",
    "    String answer;\n",
    "    System.out.println(message);\n",
    "    answer = scanner.nextLine();\n",
    "    return answer;\n",
    "} // END inputString"
   ]
  },
  {
   "cell_type": "markdown",
   "metadata": {},
   "source": [
    "#### Testing"
   ]
  },
  {
   "cell_type": "code",
   "execution_count": 3,
   "metadata": {},
   "outputs": [
    {
     "name": "stdout",
     "output_type": "stream",
     "text": [
      "What is the answer to this question?\n",
      "I don't know\n",
      "I don't know\n"
     ]
    }
   ],
   "source": [
    "System.out.println(inputString(\"What is the answer to this question?\"));"
   ]
  },
  {
   "cell_type": "markdown",
   "metadata": {},
   "source": [
    "### busDetails\n",
    "\n",
    "#### What it does\n",
    "This method asks the user repeatedly to give the number of passengers on the bus that just passed. The user should then give a number response. The loop stops when a special character \"X\" is entered as the number of passengers. It then gives the number of buses and total number of passengers counted.\n",
    "\n",
    "#### Implementation (how it works)\n",
    "In the first line passengers variable (String type) is declared and intialised with letter \"A\" which will be used later on in the method. Then the variable busCounter1 (integer type) is declared and initialised which will be used as a counter in the while loop after to count how many buses are counted. The variable totalPassengers (also an integer type) is declared and intialised which will keep record of how many passengers accumulate in the loop. Variable busCounter2 is declared to be used further in the code. In the while loop the test is while the passengers value is not equal to the special code (X). So when the question of how many passengers were on the bus is repeated to the user, if their response (which is stored in variable passengers) is X it will stop the loop. The question is repeated in the body of the while loop using inputString to get the user's response and store it in passengers variable. Each time the loop repeats the busCounter1 variable increases by 1 until the passengers value is equal to the special code. This is done to keep record of the total buses that have passed. Since the passengers variable is a String type, when the user enters a number as a response to the question we have to change the value to an integer. This is done through an if statement when the passengers value (response to the question) is not the special code X. So this becomes the test of the if statement. So if the if statement test is true (response to question is a number and stored in passengers) then totalPassengers gets the copy of the previous totalPassengers value add the number of the passenger variable. The number in the passenger variable is changed from String to integer using Integer.parseInt of passenger variable so we can add to totalPassengers. This is repeated again in the while loop through the if statement which accumlates the number of passengers. This gives a total of the passengers once the while loop stops (when special code is entered). After the loop busCounter2 gets a copy of busCounter1 value subtracted by 1. This is done to not count the last repeat of the loop. Then it prints the total passengers and total buses passed."
   ]
  },
  {
   "cell_type": "code",
   "execution_count": 4,
   "metadata": {},
   "outputs": [],
   "source": [
    "/* This method asks the user how many passsengers are on a bus repeatedly where they have to give a response\n",
    "until they enter a special code (X) then tells the user the total number of passengers and total buses. */\n",
    "public static void busDetails()\n",
    "{\n",
    "    String passengers = \"A\";\n",
    "    int busCounter1 = 0;\n",
    "    int totalPassengers = 0;\n",
    "    int busCounter2;\n",
    "    while (!passengers.equals(\"X\"))\n",
    "    {\n",
    "        busCounter1 = busCounter1 + 1;\n",
    "        passengers = inputString(\"How many passengers were on the bus?\");\n",
    "        if ((!passengers.equals(\"X\")))\n",
    "        {\n",
    "            totalPassengers = Integer.parseInt(passengers) + totalPassengers;\n",
    "        }\n",
    "    }\n",
    "    busCounter2 = busCounter1 - 1;\n",
    "    System.out.println(\"There were a total of \" + totalPassengers + \" passengers on \" + busCounter2 + \" buses.\");\n",
    "} // END busDetails"
   ]
  },
  {
   "cell_type": "markdown",
   "metadata": {},
   "source": [
    "#### Testing"
   ]
  },
  {
   "cell_type": "code",
   "execution_count": 5,
   "metadata": {},
   "outputs": [
    {
     "name": "stdout",
     "output_type": "stream",
     "text": [
      "How many passengers were on the bus?\n",
      "2\n",
      "How many passengers were on the bus?\n",
      "3\n",
      "How many passengers were on the bus?\n",
      "6\n",
      "How many passengers were on the bus?\n",
      "7\n",
      "How many passengers were on the bus?\n",
      "5\n",
      "How many passengers were on the bus?\n",
      "X\n",
      "There were a total of 23 passengers on 5 buses.\n"
     ]
    }
   ],
   "source": [
    "busDetails();"
   ]
  },
  {
   "cell_type": "markdown",
   "metadata": {},
   "source": [
    "### Running the program\n",
    "Run the following call to simulate running the complete program."
   ]
  },
  {
   "cell_type": "code",
   "execution_count": 6,
   "metadata": {},
   "outputs": [
    {
     "name": "stdout",
     "output_type": "stream",
     "text": [
      "How many passengers were on the bus?\n",
      "2\n",
      "How many passengers were on the bus?\n",
      "12\n",
      "How many passengers were on the bus?\n",
      "5\n",
      "How many passengers were on the bus?\n",
      "6\n",
      "How many passengers were on the bus?\n",
      "7\n",
      "How many passengers were on the bus?\n",
      "10\n",
      "How many passengers were on the bus?\n",
      "6\n",
      "How many passengers were on the bus?\n",
      "3\n",
      "How many passengers were on the bus?\n",
      "X\n",
      "There were a total of 51 passengers on 8 buses.\n"
     ]
    }
   ],
   "source": [
    "busDetails();"
   ]
  },
  {
   "cell_type": "markdown",
   "metadata": {},
   "source": [
    "## The complete program\n",
    "This version will only compile here. To run it copy it into a file called initials.java on your local computer and compile and run it there."
   ]
  },
  {
   "cell_type": "code",
   "execution_count": null,
   "metadata": {},
   "outputs": [],
   "source": [
    "// NAME: Ifthy Fairoze\n",
    "// DATE: 31/10/2020\n",
    "// VERSION: 1\n",
    "/* BRIEF OVERVIEW OF PURPOSE: Asks the user repeatedly how many passengers on a bus that just passed. Which stops\n",
    "when the a special code is entered by the user as a response. Then prints out total passengers and buses counted\n",
    "in that hour. */\n",
    "\n",
    "import java.util.Scanner; // Needed to make Scanner available\n",
    "\n",
    "class BusPassengers\n",
    "{\n",
    "    public static void main (String [] a)\n",
    "    {\n",
    "        busDetails();\n",
    "        System.exit(0);\n",
    "    }\n",
    "    \n",
    "    /* This method prints out a question to the user and then the user has to give a response\n",
    "    typed as the answer which is returned. */\n",
    "    public static String inputString(String message)\n",
    "    {\n",
    "        Scanner scanner = new Scanner(System.in);\n",
    "        String answer;\n",
    "        System.out.println(message);\n",
    "        answer = scanner.nextLine();\n",
    "        return answer;\n",
    "    } // END inputString\n",
    "    \n",
    "    /* This method asks the user how many passsengers are on a bus repeatedly where they have to give a response\n",
    "    until they enter a special code (X) then tells the user the total number of passengers and total buses. */\n",
    "    public static void busDetails()\n",
    "    {\n",
    "        String passengers = \"A\";\n",
    "        int busCounter1 = 0;\n",
    "        int totalPassengers = 0;\n",
    "        int busCounter2;\n",
    "        while (!passengers.equals(\"X\"))\n",
    "        {\n",
    "            busCounter1 = busCounter1 + 1;\n",
    "            passengers = inputString(\"How many passengers were on the bus?\");\n",
    "            if ((!passengers.equals(\"X\")))\n",
    "            {\n",
    "                totalPassengers = Integer.parseInt(passengers) + totalPassengers;\n",
    "            }\n",
    "        }\n",
    "        busCounter2 = busCounter1 - 1;\n",
    "        System.out.println(\"There were a total of \" + totalPassengers + \" passengers on \" + busCounter2 + \" buses.\");\n",
    "    } // END busDetails\n",
    "}"
   ]
  },
  {
   "cell_type": "markdown",
   "metadata": {},
   "source": [
    "**END OF LITERATE DOCUMENT**"
   ]
  }
 ],
 "metadata": {
  "kernelspec": {
   "display_name": "Java",
   "language": "java",
   "name": "java"
  },
  "language_info": {
   "codemirror_mode": "java",
   "file_extension": ".jshell",
   "mimetype": "text/x-java-source",
   "name": "Java",
   "pygments_lexer": "java",
   "version": "11.0.8+10-LTS"
  }
 },
 "nbformat": 4,
 "nbformat_minor": 4
}
