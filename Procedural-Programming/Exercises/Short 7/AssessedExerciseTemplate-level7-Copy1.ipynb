{
 "cells": [
  {
   "cell_type": "markdown",
   "metadata": {},
   "source": [
    "# Short Assessed Exercise\n",
    "# Level  7\n",
    "## Ifthy Fairoze\n",
    "## 5 November 2020\n",
    "## Version 1\n"
   ]
  },
  {
   "cell_type": "markdown",
   "metadata": {},
   "source": [
    "## Summary of the Question \n",
    "\n",
    "Paralympic Swimming Relay: Paralympic swimming relay competitions involve competitors of\n",
    "different disability levels making up a team. For those with physical disabilities, each swimmer’s disability is\n",
    "rated on a scale of 1-10 and the total points rating for the 4 swimmers must be no greater than a given\n",
    "number of points. For example, a legal relay team for a 34 point freestyle relay may consist of two S8\n",
    "swimmers and two S9 swimmers (9 + 9 + 8 + 8 = 34), or an S10 swimmer and three S8 swimmers (10 + 8 +\n",
    "8 + 8 = 34).\n",
    "\n",
    "Write a program that gives information about relay teams given the country and the maximum\n",
    "points score for the event. It should check that the team is legal. A new type called ParaRelayTeam\n",
    "should be created (a record type) and each separate piece of information (country - a String, and\n",
    "points - 4 integers) about a team should be stored in fields of the record. This record must be\n",
    "defined in a new class containing NOTHING but the field definitions (no methods at all in the\n",
    "record class).\n",
    "\n",
    "In the main class (the one containing the main method), an initialisation method should be provided\n",
    "to create records. It should take as arguments the values previously input about a team. Accessor\n",
    "methods must also be defined for the fields in the main class (they should NOT be in the\n",
    "ParaRelayTeam class for this exercise). These methods must be the only way the record is\n",
    "accessed.\n",
    "\n",
    "The following is an example run of the program:\n",
    "```\n",
    "What is the classification (maximum points) of this relay event? 34\n",
    "What country is the team representing? GB\n",
    "What is the disability category of Swimmer 1? 10\n",
    "What is the disability category of Swimmer 2? 8\n",
    "What is the disability category of Swimmer 3? 8\n",
    "What is the disability category of Swimmer 4? 8\n",
    "That GB team has 34 points so is legal.\n",
    "```"
   ]
  },
  {
   "cell_type": "markdown",
   "metadata": {},
   "source": [
    "## The literate program development\n",
    "Building on the what I have learned in from the ECS401U Jupyter Notebook, to answer the question, I created six methods of inputInt, inputString, createTeam, getCountry, getTotal and teamDetails. For each method, I will explain about the method, what is does and how I tested it and provide the code of the method itself. Next, I show how to run the solution to the question. Each code fragment can be run in Jupyter notebooks, here. Finally, I show the full program that can only be run outside of notebooks, along with instructions on how to do this and a summary of the structure of the full program."
   ]
  },
  {
   "cell_type": "markdown",
   "metadata": {},
   "source": [
    "### inputInt\n",
    "\n",
    "#### What it does\n",
    "This method prints out a question to the user and allows the user totype an integer response to that question and it returns that response as a result of the method.\n",
    "\n",
    "#### Implementation (how it works)\n",
    "It first sets up a local scanner to the method, linked to the keyboard which is done in the first line in the method. This makes the method scanner.nextLine() available. Then it prints out the String question to the user. Then it allows the user to type a response using nextLine and then read and stored in textInput (integer response stored as string at first). Then the value in textInput is converted from String to integer type and stored in numberInput variable as integer type. Then the value in numberInput is returned as a result of the method."
   ]
  },
  {
   "cell_type": "code",
   "execution_count": 7,
   "metadata": {},
   "outputs": [],
   "source": [
    "// This method prints out a question where the integer response entered by the user is returned as a result.\n",
    "public static int inputInt(String message)\n",
    "{\n",
    "    Scanner scanner = new Scanner(System.in);\n",
    "    String textInput;\n",
    "    int numberInput;\n",
    "    System.out.println(message);\n",
    "    textInput = scanner.nextLine();\n",
    "    numberInput = Integer.parseInt(textInput);\n",
    "    return numberInput;\n",
    "} // END inputInt"
   ]
  },
  {
   "cell_type": "markdown",
   "metadata": {},
   "source": [
    "#### Testing"
   ]
  },
  {
   "cell_type": "code",
   "execution_count": 3,
   "metadata": {},
   "outputs": [
    {
     "name": "stdout",
     "output_type": "stream",
     "text": [
      "What is the answer?\n",
      "34\n",
      "34\n"
     ]
    }
   ],
   "source": [
    "System.out.println(inputInt(\"What is the answer?\"));"
   ]
  },
  {
   "cell_type": "markdown",
   "metadata": {},
   "source": [
    "### inputString\n",
    "\n",
    "#### What it does\n",
    "This method asks a question to the user and then waits for a String response from the user and returns that response as a result of the method.\n",
    "\n",
    "#### Implementation (how it works)\n",
    "First it sets up a local scanner to the method, linked to the keyboard (similar to method inputInt). Then prints out the String question to the user. Then using scanner.nextLine (made avaliable from setting up local scanner in the first line) it allows the user to enter a String response and reads it and stores it into answer variable. Then the value in answer is returned as a result of the method."
   ]
  },
  {
   "cell_type": "code",
   "execution_count": 8,
   "metadata": {},
   "outputs": [],
   "source": [
    "/* This method prints out a question to the user and allows the user to enter a String response and that response\n",
    "is returned as a result of the method. */\n",
    "public static String inputString(String message)\n",
    "{\n",
    "    Scanner scanner = new Scanner(System.in);\n",
    "    String answer;\n",
    "    System.out.println(message);\n",
    "    answer = scanner.nextLine();\n",
    "    return answer;\n",
    "} // END inputString"
   ]
  },
  {
   "cell_type": "markdown",
   "metadata": {},
   "source": [
    "#### Testing"
   ]
  },
  {
   "cell_type": "code",
   "execution_count": 6,
   "metadata": {},
   "outputs": [
    {
     "name": "stdout",
     "output_type": "stream",
     "text": [
      "What is the answer?\n",
      "I don't know\n",
      "I don't know\n"
     ]
    }
   ],
   "source": [
    "System.out.println(inputString(\"What is the answer?\"));"
   ]
  },
  {
   "cell_type": "markdown",
   "metadata": {},
   "source": [
    "### createTeam\n",
    "\n",
    "#### What it does\n",
    "This method creates and intialises a record of new type ParaRelayTeam which contains the field details of the paralympic swimming relay team which are their country and each of the four disability rating.\n",
    "\n",
    "#### Implementation (how it works)\n",
    "This is an intialisation method of creating a record of new ADT ParaRelayTeam. It first gives the parameters which will be given values through as arguments when calling this method. Each of the parameters are the country the relay team is from and each of the 4 swimmers disability ratings. First the new record is declared by creating new ParaRelayTeam value and stored in variable newTeam. Then each of the fields of the record are assigned with the corresponding parameters. So field country of record newTeam gets value of team_country and field points_1 of record newTeam gets value of level1 and so on. The record newTeam is now set and intialised. Then it returns the record stored in variable newTeam as a result of the method. A seperate class has to be made to use new type ParaRelayTeam with the required fields."
   ]
  },
  {
   "cell_type": "code",
   "execution_count": 2,
   "metadata": {},
   "outputs": [],
   "source": [
    "class ParaRelayTeam\n",
    "{\n",
    "    String country;\n",
    "    int points_1;\n",
    "    int points_2;\n",
    "    int points_3;\n",
    "    int points_4;\n",
    "}\n",
    "\n",
    "/* This method creates and intialises a record by setting the fields of the record, and then returns that record \n",
    "as a result of the method. */\n",
    "public static ParaRelayTeam createTeam(String team_country, int level1, int level2, int level3, int level4)\n",
    "{\n",
    "    ParaRelayTeam newTeam = new ParaRelayTeam();\n",
    "    newTeam.country = team_country;\n",
    "    newTeam.points_1 = level1;\n",
    "    newTeam.points_2 = level2;\n",
    "    newTeam.points_3 = level3;\n",
    "    newTeam.points_4 = level4;\n",
    "    return newTeam;\n",
    "} // END createTeam"
   ]
  },
  {
   "cell_type": "markdown",
   "metadata": {},
   "source": [
    "#### Testing"
   ]
  },
  {
   "cell_type": "code",
   "execution_count": 8,
   "metadata": {},
   "outputs": [],
   "source": [
    "ParaRelayTeam Team = createTeam(\"GB\", 8, 8, 10 ,8); // Creates new record Team."
   ]
  },
  {
   "cell_type": "markdown",
   "metadata": {},
   "source": [
    "### getCountry\n",
    "\n",
    "#### What it does\n",
    "This accessor method gets the country field from a record of ParaRelayTeam and returns it as a result of the method.\n",
    "\n",
    "#### Implementation (how it works)\n",
    "This accessor method gets the country field of record Team1 of type ParaRelayTeam and returns that value in that field as a result of the method. Record is passed through as argument as it is needed to get the fields."
   ]
  },
  {
   "cell_type": "code",
   "execution_count": 4,
   "metadata": {},
   "outputs": [],
   "source": [
    "// Given a record Team1 return the country part of that record.\n",
    "public static String getCountry(ParaRelayTeam Team1)\n",
    "{\n",
    "    return Team1.country;\n",
    "} // END getCountry"
   ]
  },
  {
   "cell_type": "markdown",
   "metadata": {},
   "source": [
    "#### Testing"
   ]
  },
  {
   "cell_type": "code",
   "execution_count": 5,
   "metadata": {},
   "outputs": [
    {
     "name": "stdout",
     "output_type": "stream",
     "text": [
      "GB\n"
     ]
    }
   ],
   "source": [
    "ParaRelayTeam Team2 = createTeam(\"GB\", 8, 8, 10 ,8);\n",
    "System.out.println(getCountry(Team2));"
   ]
  },
  {
   "cell_type": "markdown",
   "metadata": {},
   "source": [
    "### getTotal\n",
    "\n",
    "#### What it does\n",
    "This accessor method accesses the points fields from the record and gets the total from them and returns the total value as a result of the method.\n",
    "\n",
    "#### Implementation (how it works)\n",
    "The accessor method gets the points fields (points_1, points_2, points_3 and points_4) from record Team1 of type ParaRelayTeam and add them all up and stores the total in variable total (declared as integer type). Now total is intialised and the value in total is returned as a result of the method."
   ]
  },
  {
   "cell_type": "code",
   "execution_count": 11,
   "metadata": {},
   "outputs": [],
   "source": [
    "// Given a record Team1 accesses the points fields and get total points and returns the value of the total points.\n",
    "public static int getTotal(ParaRelayTeam Team1)\n",
    "{\n",
    "    int total = Team1.points_1 + Team1.points_2 + Team1.points_3 + Team1.points_4;\n",
    "    return total;\n",
    "} // END getTotal"
   ]
  },
  {
   "cell_type": "markdown",
   "metadata": {},
   "source": [
    "#### Testing"
   ]
  },
  {
   "cell_type": "code",
   "execution_count": 7,
   "metadata": {},
   "outputs": [
    {
     "name": "stdout",
     "output_type": "stream",
     "text": [
      "34\n"
     ]
    }
   ],
   "source": [
    "ParaRelayTeam Team3 = createTeam(\"GB\", 8, 8, 10 ,8);\n",
    "System.out.println(getTotal(Team3));"
   ]
  },
  {
   "cell_type": "markdown",
   "metadata": {},
   "source": [
    "### teamDetails\n",
    "\n",
    "#### What it does\n",
    "This is method called in main method which asks the user what is the maximum points a relay team has and what country the relay team represents and the disability category of the 4 swimmers and then prints out if the team is legal or not.\n",
    "\n",
    "#### Implementation (how it works)\n",
    "This method is the method that calls the other methods to do the main function of the whole program. First it asks the user the maximum points of the relay event and allows the user to give an integer response using method call inputInt and store the response into variable classification. Then asks the user what country a relay team represents and allows a String response from the user using inputString method call and stores the response in variable teamCountry. Then it asks the user what is the disability category for each of the 4 swimmers seperately and gets a response from the user using inputInt method call. Then stores each of the categories of the swimmer (from the response) to the corresponding variables. So the first swimmer category is stored in variable category_1 and so on. Then the record of the relay team details is created by calling out the initialisation method with corresponding variables of teamCountry, category_1, category_2, category_3 and category_4 as arguments which creates and initilaises the record. Then an if statement is used to print out if the team is legal or not depending on their total points. So the test asks if the total points value (gotten from calling accessor method getTotal) is less than or equal to value of classification (value of maximum legal points). If this test is true it will print out that the team is legal using concatenation of accessor methods to get total points and the country the team represent. Otherwise if the test is false it will print out that the team is not legal using concatenation of accessor methods to get total points and the country the the team represents."
   ]
  },
  {
   "cell_type": "code",
   "execution_count": 5,
   "metadata": {},
   "outputs": [],
   "source": [
    "/* This method is the method called out in the main method where it asks the info of the team to the user and \n",
    "asks to input the answers and then prints out if that relay team is legal or not using\n",
    "primitive method calls. */\n",
    "public static void teamDetails()\n",
    "{\n",
    "    int classification = inputInt(\"What is the classification (maximum points) of this relay event?\");\n",
    "    String teamCountry = inputString(\"What country is the team representing?\");\n",
    "    int category_1 = inputInt(\"What is the disability category of Swimmer 1?\");\n",
    "    int category_2 = inputInt(\"What is the disability category of Swimmer 2?\");\n",
    "    int category_3 = inputInt(\"What is the disability category of Swimmer 3?\");\n",
    "    int category_4 = inputInt(\"What is the disability category of Swimmer 4?\");\n",
    "    ParaRelayTeam RelayTeam = createTeam(teamCountry, category_1, category_2, category_3, category_4);\n",
    "    if (getTotal(RelayTeam) <= classification)\n",
    "    {\n",
    "        System.out.println(\"That \" + getCountry(RelayTeam) + \" team has \" + getTotal(RelayTeam) + \" points so is legal.\");\n",
    "    }\n",
    "    else\n",
    "    {\n",
    "        System.out.println(\"That \" + getCountry(RelayTeam) + \" team has \" + getTotal(RelayTeam) + \" points so is not legal.\");\n",
    "    }\n",
    "    return;\n",
    "} // END teamDetails"
   ]
  },
  {
   "cell_type": "markdown",
   "metadata": {},
   "source": [
    "#### Testing"
   ]
  },
  {
   "cell_type": "code",
   "execution_count": 9,
   "metadata": {},
   "outputs": [
    {
     "name": "stdout",
     "output_type": "stream",
     "text": [
      "What is the classification (maximum points) of this relay event?\n",
      "34\n",
      "What country is the team representing?\n",
      "GB\n",
      "What is the disability category of Swimmer 1?\n",
      "10\n",
      "What is the disability category of Swimmer 2?\n",
      "8\n",
      "What is the disability category of Swimmer 3?\n",
      "8\n",
      "What is the disability category of Swimmer 4?\n",
      "8\n",
      "That GB team has 34 points so is legal.\n"
     ]
    }
   ],
   "source": [
    "teamDetails();"
   ]
  },
  {
   "cell_type": "markdown",
   "metadata": {},
   "source": [
    "### Running the program\n",
    "Run the following call to simulate running the complete program."
   ]
  },
  {
   "cell_type": "code",
   "execution_count": 10,
   "metadata": {},
   "outputs": [
    {
     "name": "stdout",
     "output_type": "stream",
     "text": [
      "What is the classification (maximum points) of this relay event?\n",
      "34\n",
      "What country is the team representing?\n",
      "GB\n",
      "What is the disability category of Swimmer 1?\n",
      "10\n",
      "What is the disability category of Swimmer 2?\n",
      "10\n",
      "What is the disability category of Swimmer 3?\n",
      "8\n",
      "What is the disability category of Swimmer 4?\n",
      "8\n",
      "That GB team has 36 points so is not legal.\n"
     ]
    }
   ],
   "source": [
    "teamDetails();"
   ]
  },
  {
   "cell_type": "markdown",
   "metadata": {},
   "source": [
    "## The complete program\n",
    "This version will only compile here."
   ]
  },
  {
   "cell_type": "code",
   "execution_count": 12,
   "metadata": {},
   "outputs": [],
   "source": [
    "// NAME: Ifthy Fairoze\n",
    "// DATE: 05/11/2020\n",
    "// VERSION: 1\n",
    "/* BRIEF OVERVIEW OF PURPOSE: This program asks the user the detils of the Paralympic Relay Team max legal points\n",
    "and the details of the Paralympic Relay Team counrty, and each of the 4 swimmers disability rating and then tells\n",
    "the user if that Paralympic Relay Team is legal or not. */\n",
    "\n",
    "import java.util.Scanner; // Needed to make Scanner available\n",
    "\n",
    "class ParaRelayTeam // New class needed to create new type ParaRelayTeam to create and access records of this type.\n",
    "{\n",
    "    String country;\n",
    "    int points_1;\n",
    "    int points_2;\n",
    "    int points_3;\n",
    "    int points_4;\n",
    "}\n",
    "\n",
    "class ParaRelayComp\n",
    "{\n",
    "    public static void main (String [] a)\n",
    "    {\n",
    "        teamDetails();\n",
    "        System.exit(0);\n",
    "    }\n",
    "    \n",
    "    // This method prints out a question where the integer response entered by the user is returned as a result.\n",
    "    public static int inputInt(String message)\n",
    "    {\n",
    "        Scanner scanner = new Scanner(System.in);\n",
    "        String textInput;\n",
    "        int numberInput;\n",
    "        System.out.println(message);\n",
    "        textInput = scanner.nextLine();\n",
    "        numberInput = Integer.parseInt(textInput);\n",
    "        return numberInput;\n",
    "    } // END inputInt\n",
    "    \n",
    "    /* This method prints out a question to the user and allows the user to enter a String response\n",
    "    and that response is returned as a result of the method. */\n",
    "    public static String inputString(String message)\n",
    "    {\n",
    "        Scanner scanner = new Scanner(System.in);\n",
    "        String answer;\n",
    "        System.out.println(message);\n",
    "        answer = scanner.nextLine();\n",
    "        return answer;\n",
    "    } // END inputString\n",
    "    \n",
    "    /* This method creates and intialises a record by setting the fields of the record,\n",
    "    and then returns that record as a result of the method. */\n",
    "    public static ParaRelayTeam createTeam(String team_country, int level1, int level2, int level3, int level4)\n",
    "    {\n",
    "        ParaRelayTeam newTeam = new ParaRelayTeam();\n",
    "        newTeam.country = team_country;\n",
    "        newTeam.points_1 = level1;\n",
    "        newTeam.points_2 = level2;\n",
    "        newTeam.points_3 = level3;\n",
    "        newTeam.points_4 = level4;\n",
    "        return newTeam;\n",
    "    } // END createTeam\n",
    "    \n",
    "    // Given a record Team1 return the country part of that record.\n",
    "    public static String getCountry(ParaRelayTeam Team1)\n",
    "    {\n",
    "        return Team1.country;\n",
    "    } // END getCountry\n",
    "    \n",
    "    // Given a record Team1 accesses the points fields and get total points and returns the value of the total points.\n",
    "    public static int getTotal(ParaRelayTeam Team1)\n",
    "    {\n",
    "        int total = Team1.points_1 + Team1.points_2 + Team1.points_3 + Team1.points_4;\n",
    "        return total;\n",
    "    } // END getTotal\n",
    "    \n",
    "    /* This method is the method called out in the main method where it asks the info of the team to the user and \n",
    "    asks to input the answers and then prints out if that relay team is legal or not using\n",
    "    primitive method calls. */\n",
    "    public static void teamDetails()\n",
    "    {\n",
    "        int classification = inputInt(\"What is the classification (maximum points) of this relay event?\");\n",
    "        String teamCountry = inputString(\"What country is the team representing?\");\n",
    "        int category_1 = inputInt(\"What is the disability category of Swimmer 1?\");\n",
    "        int category_2 = inputInt(\"What is the disability category of Swimmer 2?\");\n",
    "        int category_3 = inputInt(\"What is the disability category of Swimmer 3?\");\n",
    "        int category_4 = inputInt(\"What is the disability category of Swimmer 4?\");\n",
    "        ParaRelayTeam RelayTeam = createTeam(teamCountry, category_1, category_2, category_3, category_4);\n",
    "        if (getTotal(RelayTeam) <= classification)\n",
    "        {\n",
    "            System.out.println(\"That \" + getCountry(RelayTeam) + \" team has \" + getTotal(RelayTeam) + \" points so is legal.\");\n",
    "        }\n",
    "        else\n",
    "        {\n",
    "            System.out.println(\"That \" + getCountry(RelayTeam) + \" team has \" + getTotal(RelayTeam) + \" points so is not legal.\");\n",
    "        }\n",
    "        return;\n",
    "    } // END teamDetails\n",
    "    \n",
    "}"
   ]
  },
  {
   "cell_type": "markdown",
   "metadata": {},
   "source": [
    "**END OF LITERATE DOCUMENT**"
   ]
  }
 ],
 "metadata": {
  "kernelspec": {
   "display_name": "Java",
   "language": "java",
   "name": "java"
  },
  "language_info": {
   "codemirror_mode": "java",
   "file_extension": ".jshell",
   "mimetype": "text/x-java-source",
   "name": "Java",
   "pygments_lexer": "java",
   "version": "11.0.8+10-LTS"
  }
 },
 "nbformat": 4,
 "nbformat_minor": 4
}
