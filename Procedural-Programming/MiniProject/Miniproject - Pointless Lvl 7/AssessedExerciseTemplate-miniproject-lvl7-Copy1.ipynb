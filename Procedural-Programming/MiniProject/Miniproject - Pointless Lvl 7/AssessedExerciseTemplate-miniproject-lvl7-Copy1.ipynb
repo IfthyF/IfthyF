{
 "cells": [
  {
   "cell_type": "markdown",
   "metadata": {},
   "source": [
    "# Miniproject Exercise 'Pointless' Answer Quiz\n",
    "# Level  7\n",
    "## Ifthy Fairoze\n",
    "## 25 November 2020\n",
    "## Version 1\n"
   ]
  },
  {
   "cell_type": "markdown",
   "metadata": {},
   "source": [
    "## Summary of the Question \n",
    "\n",
    "Write a short answer quiz procedural program where the player gets points based on the number of members of the public (out of 100 people asked) who gave that answer (for the purposes of testing you can make up the response numbers). The aim is to choose an answer that as few people as possible thought of so gain as FEW points as possible (eg Name UK olympic track and field gold medal winners. ... Suppose 78 people named Dina Asher-Smith, 42 named Sebastian Coe, and 2 named Fatima Whitbread, then an answer of FatimaWhitbread gains 2 points and is the best answer. Wrong answers gain 100 points.)\n",
    "\n",
    "Level 7  - Contains all the criteria from Level 1 (F-) to Level 7 (A+)."
   ]
  },
  {
   "cell_type": "markdown",
   "metadata": {},
   "source": [
    "## The literate program development\n",
    "Building on the what I have learned in from the ECS401U Jupyter Notebook, to answer the question, I created twenty four methods for this miniproject. For each method, I will explain about the method, what is does and how I tested it and provide the code of the method itself. Next, I show how to run the solution to the question. Each code fragment can be run in Jupyter notebooks, here. Finally, I show the full program that can only be run outside of notebooks, along with instructions on how to do this and a summary of the structure of the full program."
   ]
  },
  {
   "cell_type": "markdown",
   "metadata": {},
   "source": [
    "### inputString\n",
    "\n",
    "#### What it does\n",
    "The method inputString allows the code to ask a question to the user where they can answer it in the next line. It then stores what is inputted by the user to be used later on in the code.\n",
    "\n",
    "#### Implementation (how it works)\n",
    "The first line in the code defines the method and calls it inputString. This method returns a value as it is not void. The string message parameter allows the programmer to write a question or message when calling the method. In the next line we link the keyboard to the code to input data from the real world (by using the keyboard). We then declare a variable called answer as string type. We then print out the message variable that the programmer writes when calling the method as an argument in the brackets. Then in the next line nextLine() allows the user to enter the answer where it reads the answer and stores it in variable answer. Then at the end of the method we return the answer variable and the input data held in it. Note that you have to import scanner in the full program."
   ]
  },
  {
   "cell_type": "code",
   "execution_count": 1,
   "metadata": {},
   "outputs": [],
   "source": [
    "/* This allows the programmer to call this method and ask a question or message\n",
    "as its argument and allow the user to answer the question in the next line. \n",
    "Then the input data can be used further on in the program when returned. */\n",
    "public static String inputString(String message)\n",
    "{\n",
    "    Scanner scanner = new Scanner(System.in);\n",
    "    String answer;\n",
    "    System.out.println(message);\n",
    "    answer = scanner.nextLine();\n",
    "    return answer;\n",
    "} // END inputString"
   ]
  },
  {
   "cell_type": "markdown",
   "metadata": {},
   "source": [
    "#### Testing"
   ]
  },
  {
   "cell_type": "code",
   "execution_count": 2,
   "metadata": {},
   "outputs": [
    {
     "name": "stdout",
     "output_type": "stream",
     "text": [
      "What is the answer?\n",
      "I don't know\n",
      "I don't know\n"
     ]
    }
   ],
   "source": [
    "System.out.println(inputString(\"What is the answer?\"));"
   ]
  },
  {
   "cell_type": "markdown",
   "metadata": {},
   "source": [
    "### inputInt\n",
    "\n",
    "#### What it does\n",
    "This method prints out a question to the user, then the user types an integer response and returns that response as a result of this method.\n",
    "\n",
    "#### Implementation (how it works)\n",
    "It sets up a local scanner to the method, linked to the keyboard from the first line. This then makes avaliable the method scanner.nextLine(). Then the question is printed out to the user. Then the user is able to type an String response of an integer using nextLine. This response is read and stored into textInput variable as a String value. Then the value in textInput is then converted to a integer using Integer.parseInt and stored in numberInput. Then the value in NumberInput is returned as a result."
   ]
  },
  {
   "cell_type": "code",
   "execution_count": 3,
   "metadata": {},
   "outputs": [],
   "source": [
    "/* This method asks a question to the user and then waits for the user to type an integer response which is\n",
    "returned as a result of the method. */\n",
    "public static int inputInt(String message)\n",
    "{\n",
    "    Scanner scanner = new Scanner(System.in);\n",
    "    String textInput;\n",
    "    int numberInput;\n",
    "    System.out.println(message);\n",
    "    textInput = scanner.nextLine();\n",
    "    numberInput = Integer.parseInt(textInput);\n",
    "    return numberInput;\n",
    "} // END inputInt"
   ]
  },
  {
   "cell_type": "markdown",
   "metadata": {},
   "source": [
    "#### Testing"
   ]
  },
  {
   "cell_type": "code",
   "execution_count": 4,
   "metadata": {},
   "outputs": [
    {
     "name": "stdout",
     "output_type": "stream",
     "text": [
      "What is the answer?\n",
      "3\n",
      "3\n"
     ]
    }
   ],
   "source": [
    "System.out.println(inputInt(\"What is the answer?\"));"
   ]
  },
  {
   "cell_type": "markdown",
   "metadata": {},
   "source": [
    "### createQuestion\n",
    "\n",
    "#### What it does\n",
    "This method creates the question records of the new type QuizQuestion to get the required field data of the new question, the answers and their point scores.\n",
    "\n",
    "#### Implementation (how it works)\n",
    "A new class is needed to create the new type QuizQuestion and the required fields which are question, answer_1, point_score_1, answer_2, point_score_2, answer_3 and point_score_3. So this method is given the question, answers and their points as arguments storing them in the parameters shown in the code. It first creates a new QuizQuestion value storing it in a variable called question_1. Using the dot notation it directly sets the fields in the local record question_1 to the values stored in the parameters when given as arguments. It then returns the record made by returning the value stored in the variable, question_1. This is a initialise method to set the question record."
   ]
  },
  {
   "cell_type": "code",
   "execution_count": 5,
   "metadata": {},
   "outputs": [],
   "source": [
    "// This is a new type QuizQuestion to sort the questions and answers and points into records.\n",
    "class QuizQuestion\n",
    "{\n",
    "    String question;\n",
    "    String answer_1;\n",
    "    int point_score_1;\n",
    "    String answer_2;\n",
    "    int point_score_2;\n",
    "    String answer_3;\n",
    "    int point_score_3;\n",
    "}\n",
    "\n",
    "/* This method creates and intialises a question record by setting the question for that record,\n",
    "the answers and their points. It then returns that record stored in a variable by returning \n",
    "the value stored in that variable. */\n",
    "public static QuizQuestion createQuestion(String question1, String answer1, int point_score1,\n",
    "                                          String answer2, int point_score2, String answer3, int point_score3)\n",
    "{\n",
    "    QuizQuestion question_1 = new QuizQuestion();\n",
    "    question_1.question = question1;\n",
    "    question_1.answer_1 = answer1;\n",
    "    question_1.point_score_1 = point_score1;\n",
    "    question_1.answer_2 = answer2;\n",
    "    question_1.point_score_2 = point_score2;\n",
    "    question_1.answer_3 = answer3;\n",
    "    question_1.point_score_3 = point_score3;\n",
    "    return question_1;\n",
    "} // END createQuestion"
   ]
  },
  {
   "cell_type": "markdown",
   "metadata": {},
   "source": [
    "#### Testing"
   ]
  },
  {
   "cell_type": "code",
   "execution_count": 6,
   "metadata": {},
   "outputs": [],
   "source": [
    "QuizQuestion question = createQuestion(\"What is the answer?\", \"answer1\", 25, \"answer2\", 15, \"answer3\", 60);\n",
    "// This creates a question record stored in variable question with its relevant fields (stored in heap not stack).\n",
    "// Nothing is supposed to be outputted. If variable question is printed it will print the reference."
   ]
  },
  {
   "cell_type": "markdown",
   "metadata": {},
   "source": [
    "### getQuestion\n",
    "\n",
    "#### What it does\n",
    "This method is an accessor method which gets the question out of the question field from a question record of type QuizQuestion and returns it as a result.\n",
    "\n",
    "#### Implementation (how it works)\n",
    "This accessor method works by first using question1 record as a parameter to get the fields from it. The actual question record data is passed through via argument when calling this method. This then returns the question string value from the question field of the record as a result of the method."
   ]
  },
  {
   "cell_type": "code",
   "execution_count": 7,
   "metadata": {},
   "outputs": [],
   "source": [
    "// This method retrieves the string question from a question record from its question field.\n",
    "public static String getQuestion(QuizQuestion question1)\n",
    "{\n",
    "    return question1.question;\n",
    "} // END getQuestion"
   ]
  },
  {
   "cell_type": "markdown",
   "metadata": {},
   "source": [
    "#### Testing"
   ]
  },
  {
   "cell_type": "code",
   "execution_count": 8,
   "metadata": {},
   "outputs": [
    {
     "name": "stdout",
     "output_type": "stream",
     "text": [
      "What is the answer?\n"
     ]
    }
   ],
   "source": [
    "System.out.println(getQuestion(question)); // Gets the question string from record question from question field."
   ]
  },
  {
   "cell_type": "markdown",
   "metadata": {},
   "source": [
    "### getAnswer1\n",
    "\n",
    "#### What it does\n",
    "This method is an accessor method which gets the first answer out of the answer_1 field from a question record of type QuizQuestion and returns it as a result.\n",
    "\n",
    "#### Implementation (how it works)\n",
    "This accessor method first uses local question1 record as a parameter to get the fields from it. The actual question record data is passed through via argument when calling this method. This then returns the first answer string value from the answer_1 field of the record as a result of the method."
   ]
  },
  {
   "cell_type": "code",
   "execution_count": 9,
   "metadata": {},
   "outputs": [],
   "source": [
    "// This method retrieves the string answer 1 from a question record from its answer_1 field.\n",
    "public static String getAnswer1(QuizQuestion question1)\n",
    "{\n",
    "    return question1.answer_1;\n",
    "} // END getAnswer1"
   ]
  },
  {
   "cell_type": "markdown",
   "metadata": {},
   "source": [
    "#### Testing"
   ]
  },
  {
   "cell_type": "code",
   "execution_count": 10,
   "metadata": {},
   "outputs": [
    {
     "name": "stdout",
     "output_type": "stream",
     "text": [
      "answer1\n"
     ]
    }
   ],
   "source": [
    "System.out.println(getAnswer1(question));"
   ]
  },
  {
   "cell_type": "markdown",
   "metadata": {},
   "source": [
    "### getAnswer2\n",
    "\n",
    "#### What it does\n",
    "This method is an accessor method which gets the second answer out of the answer_2 field from a question record of type QuizQuestion and returns it as a result.\n",
    "\n",
    "#### Implementation (how it works)\n",
    "This accessor method first uses local question1 record as a parameter to get the fields from it. The actual question record data is passed through via argument when calling this method. This then returns the second answer string value from the answer_2 field of the record as a result of the method. "
   ]
  },
  {
   "cell_type": "code",
   "execution_count": 11,
   "metadata": {},
   "outputs": [],
   "source": [
    "// This method retrieves the string answer 2 from a question record from its answer_2 field.\n",
    "public static String getAnswer2(QuizQuestion question1)\n",
    "{\n",
    "    return question1.answer_2;\n",
    "} // END getAnswer2"
   ]
  },
  {
   "cell_type": "markdown",
   "metadata": {},
   "source": [
    "#### Testing"
   ]
  },
  {
   "cell_type": "code",
   "execution_count": 12,
   "metadata": {},
   "outputs": [
    {
     "name": "stdout",
     "output_type": "stream",
     "text": [
      "answer2\n"
     ]
    }
   ],
   "source": [
    "System.out.println(getAnswer2(question));"
   ]
  },
  {
   "cell_type": "markdown",
   "metadata": {},
   "source": [
    "### getAnswer3\n",
    "\n",
    "#### What it does\n",
    "This method is an accessor method which gets the third answer out of the answer_3 field from a question record of type QuizQuestion and returns it as a result.\n",
    "\n",
    "#### Implementation (how it works)\n",
    "This accessor method first uses local question1 record as a parameter to get the fields from it. The actual record data is passed through via argument when calling this method. This then returns the third answer string value from answer_3 field of the record as a result of the method."
   ]
  },
  {
   "cell_type": "code",
   "execution_count": 13,
   "metadata": {},
   "outputs": [],
   "source": [
    "// This method retrieves the string answer 3 from a question record from its answer_3 field.\n",
    "public static String getAnswer3(QuizQuestion question1)\n",
    "{\n",
    "    return question1.answer_3;\n",
    "} // END getAnswer3"
   ]
  },
  {
   "cell_type": "markdown",
   "metadata": {},
   "source": [
    "#### Testing"
   ]
  },
  {
   "cell_type": "code",
   "execution_count": 14,
   "metadata": {},
   "outputs": [
    {
     "name": "stdout",
     "output_type": "stream",
     "text": [
      "answer3\n"
     ]
    }
   ],
   "source": [
    "System.out.println(getAnswer3(question));"
   ]
  },
  {
   "cell_type": "markdown",
   "metadata": {},
   "source": [
    "### getPoints1\n",
    "\n",
    "#### What it does\n",
    "This method is an accessor method which gets the points of the first answer out of the point_score_1 field from a question record of type QuizQuestion and returns it as a result.\n",
    "\n",
    "#### Implementation (how it works)\n",
    "This accessor method first uses local question1 record as a parameter to get the fields from it. The actual record data is passed through via argument when calling this method. This then returns the points of answer 1 integer value from point_score_1 field of the record as a result of the method."
   ]
  },
  {
   "cell_type": "code",
   "execution_count": 15,
   "metadata": {},
   "outputs": [],
   "source": [
    "// This method retrieves the integer points of answer 1 from a question record from its point_score_1 field.\n",
    "public static int getPoints1(QuizQuestion question1)\n",
    "{\n",
    "    return question1.point_score_1;\n",
    "} // END getPoints1"
   ]
  },
  {
   "cell_type": "markdown",
   "metadata": {},
   "source": [
    "#### Testing"
   ]
  },
  {
   "cell_type": "code",
   "execution_count": 16,
   "metadata": {},
   "outputs": [
    {
     "name": "stdout",
     "output_type": "stream",
     "text": [
      "25\n"
     ]
    }
   ],
   "source": [
    "System.out.println(getPoints1(question));"
   ]
  },
  {
   "cell_type": "markdown",
   "metadata": {},
   "source": [
    "### getPoints2\n",
    "\n",
    "#### What it does\n",
    "This method is an accessor method which gets the points of the second answer out of the point_score_2 field from a question record of type QuizQuestion and returns it as a result.\n",
    "\n",
    "#### Implementation (how it works)\n",
    "This accessor method first uses local question1 record as a parameter to get the fields from it. The actual record data is passed through via argument when calling this method. This then returns the points of answer 2 integer value from the point_score_2 field of the record as a result of the method."
   ]
  },
  {
   "cell_type": "code",
   "execution_count": 17,
   "metadata": {},
   "outputs": [],
   "source": [
    "// This method retrieves the integer points of answer 2 from a question record from its point_score_2 field.\n",
    "public static int getPoints2(QuizQuestion question1)\n",
    "{\n",
    "    return question1.point_score_2;\n",
    "} // END getPoints2"
   ]
  },
  {
   "cell_type": "markdown",
   "metadata": {},
   "source": [
    "#### Testing"
   ]
  },
  {
   "cell_type": "code",
   "execution_count": 18,
   "metadata": {},
   "outputs": [
    {
     "name": "stdout",
     "output_type": "stream",
     "text": [
      "15\n"
     ]
    }
   ],
   "source": [
    "System.out.println(getPoints2(question));"
   ]
  },
  {
   "cell_type": "markdown",
   "metadata": {},
   "source": [
    "### getPoints3\n",
    "\n",
    "#### What it does\n",
    "This method is an accessor method which gets the points of the third answer out of the point_score_3 field from a question record of type QuizQuestion and returns it as a result.\n",
    "\n",
    "#### Implementation (how it works)\n",
    "This accessor method first uses local question1 record as a parameter to get the fields from it. The actual record data is passed through via argument when calling this method. This then returns the points of answer 3 integer value from the point_score_3 field of the record as a result of the method."
   ]
  },
  {
   "cell_type": "code",
   "execution_count": 19,
   "metadata": {},
   "outputs": [],
   "source": [
    "// This method retrieves the integer points of answer 3 from a question record from its point_score_3 field.\n",
    "public static int getPoints3(QuizQuestion question1)\n",
    "{\n",
    "    return question1.point_score_3;\n",
    "} // END getPoints3"
   ]
  },
  {
   "cell_type": "markdown",
   "metadata": {},
   "source": [
    "#### Testing"
   ]
  },
  {
   "cell_type": "code",
   "execution_count": 20,
   "metadata": {},
   "outputs": [
    {
     "name": "stdout",
     "output_type": "stream",
     "text": [
      "60\n"
     ]
    }
   ],
   "source": [
    "System.out.println(getPoints3(question));"
   ]
  },
  {
   "cell_type": "markdown",
   "metadata": {},
   "source": [
    "### fileOutputQuestion1\n",
    "\n",
    "#### What it does\n",
    "This method creates a text file and writes the first question and answers and their points to that file and saves it to be used later and and returns the file name string value as a result. This is an example of file output.\n",
    "\n",
    "#### Implementation (how it works)\n",
    "Note that in the full program importing the relevant libraries is needed (java.io). Firstly when defining this method (on the header line) a throws IOException code is needed first to deal with file IO errors such as the filesystem might be full so it needs to throw an exception to pass the error. Then question1 is defined and intialised to get string value called \"actors.txt\". This is the file name used to create a text file with that name. Then to write to that file the code creates an output stream targeted at that file. This is done in the second line of the method. This creates the text file called actors.txt and creates an output stream connecting variable outputStream with the file called actors.txt. FileWriter here links it to a FileWriter object in the program, so the program can write to it. This makes outputStream.println() and outputStream.close avaliable. Then to write to it the code uses outputStream.println() method with the string you want to write as the argument. So this code prints the question in the first line and then the answers and their points each line after to the text file. Then the file is closed using outputStream.close() method. Finally as a result we return the file name string value which is stored in variable question1 so we can hold on to it so we can read the file later."
   ]
  },
  {
   "cell_type": "code",
   "execution_count": 21,
   "metadata": {},
   "outputs": [],
   "source": [
    "/* This method creates and writes the first question on actors and its \n",
    "answers and points on a text file and saves it and returns the file name as a result. */\n",
    "public static String fileOutputQuestion1() throws IOException\n",
    "{\n",
    "    String question1 = \"actors.txt\";\n",
    "    PrintWriter outputStream = new PrintWriter(new FileWriter(question1));\n",
    "    outputStream.println(\"Out of the three options: Option 1: Rami Malek, Option 2: Adam Sandler, \" +\n",
    "            \"Option 3: Denzel Washington, Who is an Oscar winning actor?\");\n",
    "    outputStream.println(\"Rami Malek\");\n",
    "    outputStream.println(\"20\");\n",
    "    outputStream.println(\"Adam Sandler\");\n",
    "    outputStream.println(\"5\");\n",
    "    outputStream.println(\"Denzel Washington\");\n",
    "    outputStream.println(\"75\");\n",
    "    outputStream.close();\n",
    "    return question1;\n",
    "} // END fileOutputQuestion1"
   ]
  },
  {
   "cell_type": "markdown",
   "metadata": {},
   "source": [
    "#### Testing"
   ]
  },
  {
   "cell_type": "code",
   "execution_count": 22,
   "metadata": {},
   "outputs": [
    {
     "name": "stdout",
     "output_type": "stream",
     "text": [
      "actors.txt\n"
     ]
    }
   ],
   "source": [
    "String filename = fileOutputQuestion1();\n",
    "System.out.println(filename);\n",
    "/* Creates a text file which holds question, answers and their points and stores file name in variable filename,\n",
    "which is printed out. */"
   ]
  },
  {
   "cell_type": "markdown",
   "metadata": {},
   "source": [
    "### fileOutputQuestion2\n",
    "\n",
    "#### What it does\n",
    "This method creates a text file and writes the second question and answers and their points to that file and saves it to be used later and returns the file name string value as a result.\n",
    "\n",
    "#### Implementation (how it works)\n",
    "Firstly throws IOException is needed at the header line to deal with file IO errors in order to throw an exception to pass the error. Then question2 is initialised and declared as a string type which stores the file name of the question which is \"presidents.txt\" as a string value. Then the second line in the method creates the text file with that name from using the variable as an argument in the method. To then write to that file the code creates an output stream targeted to that file. This creates an output stream connecting variable outputStream with the file called presidents.txt. FileWriter here links it to a FileWriter object in the program, so the program can write to it. This makes outputStream.println() and outputStream.close() avaliable. Then to write to the file the code uses outputStream.println() method with the string you want to write as the argument. So this code like in method fileOutputQuestion2 prints the question in the first line and then the answes and their points each line after to the text file. The file is then closed using outputStream.close() method. Finally as a result the file name string value stored in variable question2 is returned so we can hold on to it in order to read the file later."
   ]
  },
  {
   "cell_type": "code",
   "execution_count": 23,
   "metadata": {},
   "outputs": [],
   "source": [
    "/* This method creates and writes the second question on presidents and its \n",
    "answers and points on a text file and saves it and returns the file name as a result. */\n",
    "public static String fileOutputQuestion2() throws IOException\n",
    "{\n",
    "    String question2 = \"presidents.txt\";\n",
    "    PrintWriter outputStream = new PrintWriter(new FileWriter(question2));\n",
    "    outputStream.println(\"Out of the three options: Option 1: Benjamin Franklin, Option 2: George Washington, \" +\n",
    "            \"Option 3: Barack Obama, Who is an American president?\");\n",
    "    outputStream.println(\"Benjamin Franklin\");\n",
    "    outputStream.println(\"12\");\n",
    "    outputStream.println(\"George Washington\");\n",
    "    outputStream.println(\"28\");\n",
    "    outputStream.println(\"Barack Obama\");\n",
    "    outputStream.println(\"60\");\n",
    "    outputStream.close();\n",
    "    return question2;\n",
    "} // END fileOutputQuestion2"
   ]
  },
  {
   "cell_type": "markdown",
   "metadata": {},
   "source": [
    "#### Testing"
   ]
  },
  {
   "cell_type": "code",
   "execution_count": 24,
   "metadata": {},
   "outputs": [
    {
     "name": "stdout",
     "output_type": "stream",
     "text": [
      "presidents.txt\n"
     ]
    }
   ],
   "source": [
    "String filename2 = fileOutputQuestion2();\n",
    "System.out.println(filename2);"
   ]
  },
  {
   "cell_type": "markdown",
   "metadata": {},
   "source": [
    "### fileOutputQuestion3\n",
    "\n",
    "#### What it does\n",
    "This method creates a text file and writes the third question and answers and their points to that file and saves it to be used later and returns the file name string value as a result.\n",
    "\n",
    "#### Implementation (how it works)\n",
    "Firstly throws IOException is needed at the header line to deal with the file IO errors in order to throw an exception to pass the error. Then question3 is intialised and declared as a string type which stores the file name of the question which is \"cities.txt\" as a string value. Then the second line in the metod creates the text file with that name using the variable (question3) as ab argument in the method. To then write to that file the code creates an output stream targeted to that file. This creates an output stream connecting variable outputStream with the file called cities.txt. FileWriter here links it to a FileWriter object in the program, so the program can write to it. This makes outputStream.println() and outputStream.close() avaliable. Then to write to the file the code uses outputStream.println() method with the string you want ot write as the argument. So this code like in method fileOutputQuestion3 prints the question in the first line and then the answers and their points each line after to the text file. The file is then closed using outputStream.close() method. Finally as a result the file name string value in variable question3 is returned so we can hold on to it in order to read this file later."
   ]
  },
  {
   "cell_type": "code",
   "execution_count": 25,
   "metadata": {},
   "outputs": [],
   "source": [
    "/* This method creates and writes the third question on cities and its \n",
    "answers and points on a text file and saves it and returns the file name as a result. */\n",
    "public static String fileOutputQuestion3() throws  IOException\n",
    "{\n",
    "    String question3 = \"cities.txt\";\n",
    "    PrintWriter outputStream = new PrintWriter(new FileWriter(question3));\n",
    "    outputStream.println(\"Out of the three options: Option 1: Agra, Option 2: Mumbai, \" +\n",
    "            \"Option 3: Hyderabad, Which city is India?\");\n",
    "    outputStream.println(\"Agra\");\n",
    "    outputStream.println(\"25\");\n",
    "    outputStream.println(\"Mumbai\");\n",
    "    outputStream.println(\"63\");\n",
    "    outputStream.println(\"Hyderabad\");\n",
    "    outputStream.println(\"12\");\n",
    "    outputStream.close();\n",
    "    return question3;\n",
    "} // END fileOutputQuestion3"
   ]
  },
  {
   "cell_type": "markdown",
   "metadata": {},
   "source": [
    "#### Testing"
   ]
  },
  {
   "cell_type": "code",
   "execution_count": 26,
   "metadata": {},
   "outputs": [
    {
     "name": "stdout",
     "output_type": "stream",
     "text": [
      "cities.txt\n"
     ]
    }
   ],
   "source": [
    "String filename3 = fileOutputQuestion3();\n",
    "System.out.println(filename3);"
   ]
  },
  {
   "cell_type": "markdown",
   "metadata": {},
   "source": [
    "### fileInputQuestion\n",
    "\n",
    "#### What it does\n",
    "This method reads the file which contain the question, answers and points in order to create a record of them of type QuizQuestion and return that record as a result.\n",
    "\n",
    "#### Implementation (how it works)\n",
    "Firstly parameter question_file (of type string) is used to allow code to pass through the file name via argument when calling this method in order to access the file so it can be read. Throws IOException is needed at the end of the header line in order to deal with file IO errors (this is always needed when dealing with file IO). Then the first line allows the text file of file name of whatever value is in variable question_file to be read. This creates an input stream connected to the file called whatever the value in variable question_file. It links variable inputStream to the file so that FileReader can get the characters from the file and BufferedReader putting the characters back into Strings (it buffers the data) until it is ready to be taken via the variable inputStream. To read a line of text from the file you use inputStream.readLine method and in the first line contains the  question which is stored as a string value in variable question. Then the second and third line contains the answer and the points of that answer and that is read using inputStream.readLine method and stored in string type variable answer1 and integer type variable score1. Using inputStream.readLine method produces a string value to store the score in score1 variable as an integer type we use Integer.parseInt to convert the string value into an integer value. This is done for fourth and fifth lines of the text file for variables answer2 and score2 and then sixth and seventh lines of the text file for variables answer3 and score3. To then close the file to stop reading we then use inputStream.close() method. We then create a record of type QuizQuestion which holds the question, answers and their corresponding points or score using method createQuestion and the arguments which are the question variable holding the question string value, answer1 and score1 variables holding their answer string value and score integer value and so on. As a result we then return the question record created holding the data."
   ]
  },
  {
   "cell_type": "code",
   "execution_count": 27,
   "metadata": {},
   "outputs": [],
   "source": [
    "/* This method reads the file containing the question, answers and points in order to create a record holding\n",
    "that data and return that record as a result. */\n",
    "public static QuizQuestion fileInputQuestion(String question_file) throws IOException\n",
    "{\n",
    "    BufferedReader inputStream = new BufferedReader(new FileReader(question_file));\n",
    "    String question = inputStream.readLine();\n",
    "    String answer1 = inputStream.readLine();\n",
    "    int score1 = Integer.parseInt(inputStream.readLine());\n",
    "    String answer2 = inputStream.readLine();\n",
    "    int score2 = Integer.parseInt(inputStream.readLine());\n",
    "    String answer3 = inputStream.readLine();\n",
    "    int score3 = Integer.parseInt(inputStream.readLine());\n",
    "    inputStream.close();\n",
    "    QuizQuestion questionRecord = createQuestion(question, answer1, score1, answer2, score2, answer3, score3);\n",
    "    return questionRecord;\n",
    "} // END fileInputQuestion"
   ]
  },
  {
   "cell_type": "markdown",
   "metadata": {},
   "source": [
    "#### Testing"
   ]
  },
  {
   "cell_type": "code",
   "execution_count": 28,
   "metadata": {},
   "outputs": [],
   "source": [
    "QuizQuestion Question_Actors_record = fileInputQuestion(filename); \n",
    "/* Creates question record holding the \n",
    "data of the question on actors (data meaning question,answers and their points). */"
   ]
  },
  {
   "cell_type": "markdown",
   "metadata": {},
   "source": [
    "### createBank\n",
    "\n",
    "#### What it does\n",
    "This creates a question bank by storing the question records in an array of type QuizQuestion and returning that array as a result.\n",
    "\n",
    "#### Implementation (how it works)\n",
    "Firstly throws IOException is needed at the end of the header line as file IO is part of the code. Then it intialises and declares 3 variables (question1_file, question2_file and question3_file) which are string that hold the file names of the text files created and written which hold question, answers and their points of each question using fileOutputQuestion1, fileOutputQuestion2 and fileOuputQuestion3 methods corresponding to their variables. Then records are created which are type QuizQuestion called question1, question2 and question3 which hold the data on each question. This is done by calling fileInputQuestion with the corresponding file name string type variable as the argument, so for record question1 the argument would be question1_file and so on. This method fileInputQuestion reads the text files that were just created and stores the data read into records and returns that record. Then an array is created called Question_Bank of size 3 of type QuizQuestion and stores record question1 in position 0 and record question2 in position 1 and record question3 in position 2. Then returns the array Question_Bank as a result of the method."
   ]
  },
  {
   "cell_type": "code",
   "execution_count": 29,
   "metadata": {},
   "outputs": [],
   "source": [
    "/* This creates a question bank storing the question records \n",
    "which hold the questions and their data into an array and returning that array as a result. */\n",
    "public static QuizQuestion[] createBank() throws IOException\n",
    "{\n",
    "    String question1_file = fileOutputQuestion1();\n",
    "    String question2_file = fileOutputQuestion2();\n",
    "    String question3_file = fileOutputQuestion3();\n",
    "    QuizQuestion question1 = fileInputQuestion(question1_file);\n",
    "    QuizQuestion question2 = fileInputQuestion(question2_file);\n",
    "    QuizQuestion question3 = fileInputQuestion(question3_file);\n",
    "    QuizQuestion [] Question_Bank = new QuizQuestion[3];\n",
    "    Question_Bank [0] = question1;\n",
    "    Question_Bank [1] = question2;\n",
    "    Question_Bank [2] = question3;\n",
    "    return Question_Bank;\n",
    "} // END createBank"
   ]
  },
  {
   "cell_type": "markdown",
   "metadata": {},
   "source": [
    "#### Testing"
   ]
  },
  {
   "cell_type": "code",
   "execution_count": 30,
   "metadata": {},
   "outputs": [],
   "source": [
    "QuizQuestion [] QuestionBank = createBank();\n",
    "// Array containing the question records"
   ]
  },
  {
   "cell_type": "markdown",
   "metadata": {},
   "source": [
    "### Question_score\n",
    "\n",
    "#### What it does\n",
    "This method keeps a total of the user's score when they have answered a question and tells the user how many points they receive for that answer. The score is returned as a result.\n",
    "\n",
    "#### Implementation (how it works)\n",
    "This method first uses parameters question1 of type QuizQuestion which is the question record and answer of type string which holds the answer the user inputted from the question. These data are passed through via arguments when calling this method. Then it declares the variable score2 which is an integer type. Then if-then-else statements are used which first test if the string value in variable answer equals to the first answer from the question. This is taken from the question record using accessor method getAnswer1 with the question record as the argument. If this test is true then variable score2 gets the points of getting that first answer which is also taken from the question record using accessor method getPoints1 with the question record as the argument. Then it prints out to the user how many points they got from this answer using concatentation of score2 to output the points. This is repeated in two more tests that ask the same but this time if the answer equals to the second answer or third answer (using accessor methods getAnswer2 and getAnswer3) and then uses accessor methods getPoints1 or getPoints2 to add to the score depending if the user's answer equals to the corresponding answer 2 or 3. Then prints out how many points they got from that answer. Otherwise if all other tests are false then the else body is executed which is when the user's answer does not equal to any of the options given and score2 gets 100 as its value and printing to the user that their answer is not one of the options and telling them how many points they get from this answer. Finally score2's value is returned as a result."
   ]
  },
  {
   "cell_type": "code",
   "execution_count": 31,
   "metadata": {},
   "outputs": [],
   "source": [
    "/* This method stores the total score the user gets when they have answered a question and tells the user how\n",
    "points they recieve for that answer and return the score value as a result. */\n",
    "public static int Question_score(QuizQuestion question1, String answer)\n",
    "{\n",
    "    int score2;\n",
    "    if (answer.equals(getAnswer1(question1)))\n",
    "    {\n",
    "        score2 = getPoints1(question1);\n",
    "        System.out.println(\"This answer gives you \" + score2 + \" points.\");\n",
    "    }\n",
    "    else if (answer.equals(getAnswer2(question1)))\n",
    "    {\n",
    "        score2 = getPoints2(question1);\n",
    "        System.out.println(\"This answer gives you \" + score2 + \" points.\");\n",
    "    }\n",
    "    else if (answer.equals(getAnswer3(question1)))\n",
    "    {\n",
    "        score2 = getPoints3(question1);\n",
    "        System.out.println(\"This answer gives you \" + score2 + \" points.\");\n",
    "    }\n",
    "    else\n",
    "    {\n",
    "        score2 = 100;\n",
    "        System.out.println(\"This is not one of the options\");\n",
    "        System.out.println(\"This answer gives you 100 points.\");\n",
    "    }\n",
    "    return score2;\n",
    "} // END Question_score"
   ]
  },
  {
   "cell_type": "markdown",
   "metadata": {},
   "source": [
    "#### Testing"
   ]
  },
  {
   "cell_type": "code",
   "execution_count": 32,
   "metadata": {},
   "outputs": [
    {
     "name": "stdout",
     "output_type": "stream",
     "text": [
      "This answer gives you 25 points.\n"
     ]
    }
   ],
   "source": [
    "String user_answer = \"answer1\";\n",
    "int user_score = Question_score(question, user_answer);"
   ]
  },
  {
   "cell_type": "markdown",
   "metadata": {},
   "source": [
    "### printQuestion\n",
    "\n",
    "#### What it does\n",
    "This method will ask the user what question to answer (either 1, 2 or 3) and if they choose an option then the question will be printed out asking the user for an answer and then stores the score they get from the user's answer. Otherwise it prints to the user that the option they inputted was not an option. Then it returns the score as a result.\n",
    "\n",
    "#### Implementation (how it works)\n",
    "This method first gets parameter question_bank which is an local array that holds the quetion records of type QuizQuestion. This bank data is passed through via argument when calling this method. Then it first declares and intialises the variable score (type integer) which holds value 0. Then it asks the user out of questions 1, 2 or 3 which one they want to answer and gets a response from them using method inputInt and stores their response in variable choice of type integer. Then an if statement in used where the test asks if the value in choice is greater than or equal to 1 and that choice is also less than and equal to 3 (giving options 1, 2 or 3). If this test is true then the question record used will be the one in the question_bank array at position value in variable choice - 1 since the array starts at position 0. Then the user will be asked the question from that record using accessor method getQuestion (using the question record used as the argument) and get a response from the user using inputString method call and storing the answer in variable answer of type string. Then the score is calculated using method call Question_score (using the question record used and answer as the arguments). Otherwise if the test is false then it will print to the user that their response was not an option. Finally it returns the value in variable score as a result of the method."
   ]
  },
  {
   "cell_type": "code",
   "execution_count": 33,
   "metadata": {},
   "outputs": [],
   "source": [
    "/* This method asks the user which question they want to answer and gets a response from the user and then\n",
    "user answers the question and stores the score they get and returns the score as a result. */\n",
    "public static int printQuestion(QuizQuestion [] question_bank)\n",
    "{\n",
    "    int score = 0;\n",
    "    int choice = inputInt(\"Out of question 1, 2 or 3, which one do you want to answer?\");\n",
    "    if (choice <= 3 & choice >= 1)\n",
    "    {\n",
    "        QuizQuestion question_used = question_bank[(choice - 1)];\n",
    "        String answer = inputString(getQuestion(question_used));\n",
    "        score = Question_score(question_used, answer);\n",
    "    }\n",
    "    else\n",
    "    {\n",
    "        System.out.println(\"That is not an option\");\n",
    "    }\n",
    "    return score;\n",
    "} // END printQuestion"
   ]
  },
  {
   "cell_type": "markdown",
   "metadata": {},
   "source": [
    "#### Testing"
   ]
  },
  {
   "cell_type": "code",
   "execution_count": 34,
   "metadata": {},
   "outputs": [
    {
     "name": "stdout",
     "output_type": "stream",
     "text": [
      "Out of question 1, 2 or 3, which one do you want to answer?\n",
      "1\n",
      "Out of the three options: Option 1: Rami Malek, Option 2: Adam Sandler, Option 3: Denzel Washington, Who is an Oscar winning actor?\n",
      "Rami Malek\n",
      "This answer gives you 20 points.\n"
     ]
    }
   ],
   "source": [
    "int user_score2 = printQuestion(QuestionBank);"
   ]
  },
  {
   "cell_type": "markdown",
   "metadata": {},
   "source": [
    "### createScore\n",
    "\n",
    "#### What it does\n",
    "This method is a primitive method of ADT TotalScore which creates a record holding user's name and total score in the required fields and returning that record as a result.\n",
    "\n",
    "#### Implementation (how it works)\n",
    "Firstly a new ADT type is created in a new class which is defined and called TotalScore (the type name). Then the required fields are declared which are name and score which are both string type. Then in the method paramters given_name and given_score are needed which are string type. These will hold the data of the user's name and their score which is passed through to the method via arguments when calling this method. Then local record named player is created of type TotalScore. Here new means it makes a reference in order to add values to the heap. Then the name field of record player is assigned the name of the user from the value in given_name variable. Then score field of record player is assigned the score of the user from the value in given_score variable. Then the record player is returned as a result of the method."
   ]
  },
  {
   "cell_type": "code",
   "execution_count": 35,
   "metadata": {},
   "outputs": [],
   "source": [
    "/* This is a new abstract data type TotalScore which holds the name and score of user who have done the quiz. \n",
    "They have two fields which are name and score both string type. */\n",
    "class TotalScore\n",
    "{\n",
    "    String name;\n",
    "    String score;\n",
    "}\n",
    "\n",
    "/* This method is a primitive method of ADT TotalScore which creates a record holding name and score of user doing\n",
    "the quiz and returns that record as a result. */\n",
    "public static TotalScore createScore(String given_name, String given_score)\n",
    "{\n",
    "    TotalScore player = new TotalScore();\n",
    "    player.name = given_name;\n",
    "    player.score = given_score;\n",
    "    return player;\n",
    "} // END createScore"
   ]
  },
  {
   "cell_type": "markdown",
   "metadata": {},
   "source": [
    "#### Testing"
   ]
  },
  {
   "cell_type": "code",
   "execution_count": 36,
   "metadata": {},
   "outputs": [],
   "source": [
    "String player_name = \"User 1\";\n",
    "String player_score = \"60\";\n",
    "TotalScore user_details = createScore(player_name, player_score);\n",
    "// user_details is a record created of type TotalScore holding user's name and score which is User 1 and 60."
   ]
  },
  {
   "cell_type": "markdown",
   "metadata": {},
   "source": [
    "### AddToArray\n",
    "\n",
    "#### What it does\n",
    "This primitive method of ADT TotalScore adds to an existing string type array which holds the name and score of each user who is participating in the quiz.\n",
    "\n",
    "#### Implementation (how it works)\n",
    "This first uses parameters scoreArray which is an array of type string (this is the exisiting array passed through to this method via argument when calling this method which holds the each user's name and score) and position in the array it is being added to (passed through to this method via argument) which is type integer and the record holding the user name and score data of type TotalScore (also passed through to this method via argument). Then it at scoreArray at positon value in whatever value in variable position it is assigned the string value which holds the user's name and score and returns back to the code from where it was called."
   ]
  },
  {
   "cell_type": "code",
   "execution_count": 37,
   "metadata": {},
   "outputs": [],
   "source": [
    "/* This primitive method of ADT TotalScore add to an existing array that is of type \n",
    "string which holds the name and score of each user. */\n",
    "public static void AddToArray(String [] scoreArray, int position, TotalScore player)\n",
    "{\n",
    "    scoreArray [position] = player.name + \" has score of \" + player.score + \" points.\";\n",
    "    return;\n",
    "} // END AddToArray"
   ]
  },
  {
   "cell_type": "markdown",
   "metadata": {},
   "source": [
    "#### Testing"
   ]
  },
  {
   "cell_type": "code",
   "execution_count": 38,
   "metadata": {},
   "outputs": [
    {
     "name": "stdout",
     "output_type": "stream",
     "text": [
      "User 1 has score of 60 points.\n"
     ]
    }
   ],
   "source": [
    "String [] array = new String[2];\n",
    "AddToArray(array, 0, user_details);\n",
    "AddToArray(array, 1, user_details);\n",
    "System.out.println(array[0]);"
   ]
  },
  {
   "cell_type": "markdown",
   "metadata": {},
   "source": [
    "### printScores\n",
    "\n",
    "#### What it does\n",
    "This is a primitive method of ADT TotalScore which prints the final total scores and names of users doing the quiz to the user.\n",
    "\n",
    "#### Implementation (how it works)\n",
    "This primitive method first uses parameter scoreArray which is an array of string type. This will hold the actual array which contains each of the user's name and score data which is passed through to this method via argument when calling this method. Then it prints scores of each user as the title. Then it uses a for loop to print out each value in the array scoreArray. From position 0 to the length of the array (which is the number of users who particpated in the quiz). Then at the end it print an blank line to seperate what has been printed. Then returns back to the code where this method was called."
   ]
  },
  {
   "cell_type": "code",
   "execution_count": 39,
   "metadata": {},
   "outputs": [],
   "source": [
    "// This primitive method of ADT TotalScore prints the final total scores and names of the users doing the quiz.\n",
    "public static void printScores(String [] scoreArray)\n",
    "{\n",
    "    System.out.println(\"The scores of each user:\");\n",
    "    for (int i=0; i<scoreArray.length; i++)\n",
    "    {\n",
    "        System.out.println(scoreArray[i]);\n",
    "    }\n",
    "    System.out.println();\n",
    "    return;\n",
    "} // END printScores"
   ]
  },
  {
   "cell_type": "markdown",
   "metadata": {},
   "source": [
    "#### Testing"
   ]
  },
  {
   "cell_type": "code",
   "execution_count": 40,
   "metadata": {},
   "outputs": [
    {
     "name": "stdout",
     "output_type": "stream",
     "text": [
      "The scores of each user:\n",
      "User 1 has score of 60 points.\n",
      "User 1 has score of 60 points.\n",
      "\n"
     ]
    }
   ],
   "source": [
    "printScores(array);"
   ]
  },
  {
   "cell_type": "markdown",
   "metadata": {},
   "source": [
    "### createTableScore\n",
    "\n",
    "#### What it does\n",
    "This creates a leaderboard by using a sorting algorithm to sort each user's scores with the person with the least points as first and user with the highest points is last.\n",
    "\n",
    "#### Implementation (how it works)\n",
    "This method first uses parameter board which an array of type integer which hold each of the users particpating their score. This will temporarily hold the actual array that holds the each users scores which is passed through to this method via argument when calling this method. Then we ask the user if they want to see the leaderboard and get a response from them either Y for yes and N for NO. This is done by calling inputString method with the question as the argument and stores the response in variable option which is of type string. Then an if statement is used which test if the value held in option is Y then it will execute the body of this branch. The body instructions will then sort the unordered array (board) which holds each users scores using a bubble sort which compares each position and the position before that using if statement as shown in line 9 of the method. If the position before is higher than the original position then it will swap them around. This is done for each position in the array until the last position. This will then be a pass. This pass repeatedly occurs a value of the number of values in the array board. As shown by the fifth line in the method. Then now the array is sorted. Otherwise if the test of the if statement is false then it will print thank you for taking part in the quiz to the user and exit the program. At the end of the method it returns back to the code to where this method was called."
   ]
  },
  {
   "cell_type": "code",
   "execution_count": 41,
   "metadata": {},
   "outputs": [],
   "source": [
    "/* This method creates a leaderboard of the scores using a sort algorithm where the user with least points\n",
    "is first while the user with the most points is last. */\n",
    "public static void createTableScore(int [] board)\n",
    "{\n",
    "    String option = inputString(\"Would you like to see the leaderboard? (Y/N)\");\n",
    "    if (option.equals(\"Y\"))\n",
    "    {\n",
    "        int temporary = 0;\n",
    "        for (int pass=0; pass<board.length; pass++)\n",
    "        {\n",
    "            for (int b=1; b<board.length-pass; b++)\n",
    "            {\n",
    "                if (board[b-1] > board[b])\n",
    "                {\n",
    "                    temporary = board[b-1];\n",
    "                    board[b-1] = board[b];\n",
    "                    board[b] = temporary;\n",
    "                }\n",
    "            }\n",
    "        }\n",
    "    }\n",
    "    else\n",
    "    {\n",
    "        System.out.println(\"Thank you for taking part in the Quiz.\");\n",
    "        System.exit(0);\n",
    "    }\n",
    "    return;\n",
    "} // END createTableScore"
   ]
  },
  {
   "cell_type": "markdown",
   "metadata": {},
   "source": [
    "#### Testing"
   ]
  },
  {
   "cell_type": "code",
   "execution_count": 42,
   "metadata": {},
   "outputs": [
    {
     "name": "stdout",
     "output_type": "stream",
     "text": [
      "Would you like to see the leaderboard? (Y/N)\n",
      "Y\n"
     ]
    }
   ],
   "source": [
    "int [] game_scores = {45,86,22,12,55,80};\n",
    "createTableScore(game_scores);\n",
    "// This will have sorted the array game_scores"
   ]
  },
  {
   "cell_type": "markdown",
   "metadata": {},
   "source": [
    "### printTableScore\n",
    "\n",
    "#### What it does\n",
    "This method prints the leaderboard of the score of the users who particpated in the quiz. Where first has the least amount of points and last has the most points.\n",
    "\n",
    "#### Implementation (how it works)\n",
    "This method first uses parameter board (type integer) which will temporarily hold the array with the sorted scores now. The actual data of the sorted array is passed through to this method via argument when calling this method. Then a for loop is used which will print each of the score values in the array which is already in order. The i + 1 is used to indicate what position it is in the leaderboard. Then it returns back to the code to where this method was called."
   ]
  },
  {
   "cell_type": "code",
   "execution_count": 43,
   "metadata": {},
   "outputs": [],
   "source": [
    "// This method prints the leaderboard of the scores where first has least points and last has most points.\n",
    "public static void printTableScore(int [] board)\n",
    "{\n",
    "    for (int i=0; i<board.length; i++)\n",
    "    {\n",
    "        System.out.println((i + 1) + \": \" + board[i] + \" points.\");\n",
    "    }\n",
    "    return;\n",
    "} // END printTableScore"
   ]
  },
  {
   "cell_type": "markdown",
   "metadata": {},
   "source": [
    "#### Testing"
   ]
  },
  {
   "cell_type": "code",
   "execution_count": 44,
   "metadata": {},
   "outputs": [
    {
     "name": "stdout",
     "output_type": "stream",
     "text": [
      "1: 12 points.\n",
      "2: 22 points.\n",
      "3: 45 points.\n",
      "4: 55 points.\n",
      "5: 80 points.\n",
      "6: 86 points.\n"
     ]
    }
   ],
   "source": [
    "printTableScore(game_scores);\n",
    "// Prints the sorted version of array game_scores as a leaderboard"
   ]
  },
  {
   "cell_type": "markdown",
   "metadata": {},
   "source": [
    "### QuizDetails\n",
    "\n",
    "#### What it does\n",
    "This method is the method doing all the work. It asks the user how many people want to do the quiz and then lets each user do the quiz and allows each user to answer another question if they like (each time they have finished answering a question) and then tallys up and records the each users scores and print the scores and prints a leaderboard if the user wants to see it. Then the program is exited.\n",
    "\n",
    "#### Implementation (how it works)\n",
    "Note that this method needs throws IOExeception as it handles file IO. Firstly this method creates the question bank by calling the method createBank (which involves file IO) and then stores it into an array of type QuizQuestion called Quiz_questions. This variable Quiz_questions is a final variable as it stays constant throughout the code. Then it asks the user how many people want to do the quiz and gets their response. This is done by calling method inputInt with the question as the argument and then stores the response in variable number_of_times (which is of type integer). This is a final variable since it stays constant throughout the code. Then we create two new arrays, one is called board which is of type integer which will hold the final scores of each user in order to create a leaderboard. The other array is called playerScores which is string type and will hold the scores of each user in order to print out all the user's and their scores. The size of both arrays is the value in final variable number_of_times (which is the number of people doing the quiz) since the number of scores is the number of people doing the quiz. Then a for loop is used to repeatedly do the quiz for each user particpating in the quiz. Then a blank line is printed to seperate what is printed next. Then it will print to the user doing the quiz saying the first person to answer the question from the question bank through concatenation of variable user_name which holds the string value of which person doing the quiz. Then two totals are declared and intialised which are total and total2 which are both integer type and hold value 0. Variable total is used to hold the score the user get from each question they answer and variable total2 will keep a running total of what score they get overall. Then a while loop is used to repeatedly ask the user what question they want to answer and allow them to answer the question they chose and get the score from their answer. This is done by calling method printQuestion with the question bank variable Quiz_questions as the argument. This will then return the score they get from answering that question and store it in variable total. Then it increments total2 by the value in total. Then it ask the user if they want to answer another question with a response of Y or N. This is done by calling inputString with the question as the argument. This response is stored in variable tries. If the user does have a response of Y then it will repeat the loop since the test is true as tries will equal to Y. If the response is N stored in variable tries then it will exit the while loop and then create a record of the score and name of that user who just done the quiz by calling createScore and store it into record player of ADT TotalScore. Then it adds the record data (which contains score and name of the user) to a string array playerScores at position i. Then adds the value of total2 (which is the final score that user got) to array board at position i. Then creates a blank line to again seperate it. This body of the for loop is repeated for the next user to answer the quiz and so on until the value of number_of_times. Then it prints the each value of array playerScores to show the final scores each user got by calling printScores method with array playerScores as the argument. Then it asks the user if they want to see the leaderboard or not. If not it prints a message and exits the program and if they say yes it sorts the array board with the final scores of each user. This is done by calling createTableScore method with array board as the argument. Then it prints the leaderboard with the ranked positions (from least points to highest) by calling method printTableScore with array board as the argument. Then the method returns to the main method."
   ]
  },
  {
   "cell_type": "code",
   "execution_count": 45,
   "metadata": {},
   "outputs": [],
   "source": [
    "/* This is the method doing all the work which asks the user how many people are doing the quiz and then lets\n",
    "each user do the quiz and ask if they want to answer another question and tallys up each users total scores\n",
    "and prints the scores and also prints a leaderboard if the user wants to see it. */\n",
    "public static void QuizDetails() throws IOException\n",
    "{\n",
    "    final QuizQuestion [] Quiz_questions = createBank();\n",
    "    final int number_of_times = inputInt(\"How many people want to do the Quiz?\");\n",
    "    int [] board = new int[number_of_times];\n",
    "    String [] playersScores = new String[number_of_times];\n",
    "    for (int i=0; i<number_of_times; i++)\n",
    "    {\n",
    "        System.out.println();\n",
    "        String user_name = \"Person \" + (i + 1);\n",
    "        System.out.println(user_name + \" to answer question from question bank:\");\n",
    "        int total = 0;\n",
    "        int total2 = 0;\n",
    "        String tries = \"Y\";\n",
    "        while (tries.equals(\"Y\"))\n",
    "        {\n",
    "            total = printQuestion(Quiz_questions);\n",
    "            total2 = total2 + total;\n",
    "            tries = inputString(\"Do you want to answer another question (Y/N)\");\n",
    "        }\n",
    "        TotalScore player = createScore(user_name, Integer.toString(total2));\n",
    "        AddToArray(playersScores, i, player);\n",
    "        board [i] = total2;\n",
    "        System.out.println();\n",
    "    }\n",
    "    printScores(playersScores);\n",
    "    createTableScore(board);\n",
    "    printTableScore(board);\n",
    "    return;\n",
    "} // END QuizDetails"
   ]
  },
  {
   "cell_type": "markdown",
   "metadata": {},
   "source": [
    "#### Testing"
   ]
  },
  {
   "cell_type": "code",
   "execution_count": 46,
   "metadata": {},
   "outputs": [
    {
     "name": "stdout",
     "output_type": "stream",
     "text": [
      "How many people want to do the Quiz?\n",
      "2\n",
      "\n",
      "Person 1 to answer question from question bank:\n",
      "Out of question 1, 2 or 3, which one do you want to answer?\n",
      "1\n",
      "Out of the three options: Option 1: Rami Malek, Option 2: Adam Sandler, Option 3: Denzel Washington, Who is an Oscar winning actor?\n",
      "Rami Malek\n",
      "This answer gives you 20 points.\n",
      "Do you want to answer another question (Y/N)\n",
      "Y\n",
      "Out of question 1, 2 or 3, which one do you want to answer?\n",
      "2\n",
      "Out of the three options: Option 1: Benjamin Franklin, Option 2: George Washington, Option 3: Barack Obama, Who is an American president?\n",
      "Barack Obama\n",
      "This answer gives you 60 points.\n",
      "Do you want to answer another question (Y/N)\n",
      "N\n",
      "\n",
      "\n",
      "Person 2 to answer question from question bank:\n",
      "Out of question 1, 2 or 3, which one do you want to answer?\n",
      "1\n",
      "Out of the three options: Option 1: Rami Malek, Option 2: Adam Sandler, Option 3: Denzel Washington, Who is an Oscar winning actor?\n",
      "Adam Sandler\n",
      "This answer gives you 5 points.\n",
      "Do you want to answer another question (Y/N)\n",
      "Y\n",
      "Out of question 1, 2 or 3, which one do you want to answer?\n",
      "3\n",
      "Out of the three options: Option 1: Agra, Option 2: Mumbai, Option 3: Hyderabad, Which city is India?\n",
      "Hyderabad\n",
      "This answer gives you 12 points.\n",
      "Do you want to answer another question (Y/N)\n",
      "N\n",
      "\n",
      "The scores of each user:\n",
      "Person 1 has score of 80 points.\n",
      "Person 2 has score of 17 points.\n",
      "\n",
      "Would you like to see the leaderboard? (Y/N)\n",
      "Y\n",
      "1: 17 points.\n",
      "2: 80 points.\n"
     ]
    }
   ],
   "source": [
    "QuizDetails();"
   ]
  },
  {
   "cell_type": "markdown",
   "metadata": {},
   "source": [
    "### Running the program\n",
    "Run the following call to simulate running the complete program."
   ]
  },
  {
   "cell_type": "code",
   "execution_count": 47,
   "metadata": {},
   "outputs": [
    {
     "name": "stdout",
     "output_type": "stream",
     "text": [
      "How many people want to do the Quiz?\n",
      "2\n",
      "\n",
      "Person 1 to answer question from question bank:\n",
      "Out of question 1, 2 or 3, which one do you want to answer?\n",
      "1\n",
      "Out of the three options: Option 1: Rami Malek, Option 2: Adam Sandler, Option 3: Denzel Washington, Who is an Oscar winning actor?\n",
      "Denzel Washington\n",
      "This answer gives you 75 points.\n",
      "Do you want to answer another question (Y/N)\n",
      "N\n",
      "\n",
      "\n",
      "Person 2 to answer question from question bank:\n",
      "Out of question 1, 2 or 3, which one do you want to answer?\n",
      "2\n",
      "Out of the three options: Option 1: Benjamin Franklin, Option 2: George Washington, Option 3: Barack Obama, Who is an American president?\n",
      "George Washington\n",
      "This answer gives you 28 points.\n",
      "Do you want to answer another question (Y/N)\n",
      "Y\n",
      "Out of question 1, 2 or 3, which one do you want to answer?\n",
      "1\n",
      "Out of the three options: Option 1: Rami Malek, Option 2: Adam Sandler, Option 3: Denzel Washington, Who is an Oscar winning actor?\n",
      "Adam Sandler\n",
      "This answer gives you 5 points.\n",
      "Do you want to answer another question (Y/N)\n",
      "N\n",
      "\n",
      "The scores of each user:\n",
      "Person 1 has score of 75 points.\n",
      "Person 2 has score of 33 points.\n",
      "\n",
      "Would you like to see the leaderboard? (Y/N)\n",
      "Y\n",
      "1: 33 points.\n",
      "2: 75 points.\n"
     ]
    }
   ],
   "source": [
    "QuizDetails();"
   ]
  },
  {
   "cell_type": "markdown",
   "metadata": {},
   "source": [
    "## The complete program\n",
    "This version will only compile here. To run it copy it into a file called initials.java on your local computer and compile and run it there."
   ]
  },
  {
   "cell_type": "code",
   "execution_count": 49,
   "metadata": {},
   "outputs": [],
   "source": [
    "// NAME: Ifthy Fairoze\n",
    "// DATE: 25/11/2020\n",
    "// VERSION: 1\n",
    "/* BRIEF OVERVIEW OF PURPOSE: This program allows multiple users to particpate in a quiz where they each answer \n",
    "a question of their choice from the question bank and can answer other questions and tallys up and records their \n",
    "scores and prints their scores and a leaderboard (where user with least points is first and user with most points\n",
    "is last) if they want to. */\n",
    "\n",
    "import java.util.Scanner; // Needed to make Scanner available\n",
    "import java.io.*; // Needed to make file IO avalaible\n",
    "\n",
    "// This is a new type QuizQuestion to sort the questions and answers and points into records.\n",
    "class QuizQuestion\n",
    "{\n",
    "    String question;\n",
    "    String answer_1;\n",
    "    int point_score_1;\n",
    "    String answer_2;\n",
    "    int point_score_2;\n",
    "    String answer_3;\n",
    "    int point_score_3;\n",
    "}\n",
    "\n",
    "/* This is a new abstract data type TotalScore which holds the name and score of user who have done the quiz. \n",
    "They have two fields which are name and score both string type. */\n",
    "class TotalScore\n",
    "{\n",
    "    String name;\n",
    "    String score;\n",
    "}\n",
    "\n",
    "class PointlessQuiz\n",
    "{\n",
    "    public static void main (String [] a) throws IOException\n",
    "    {\n",
    "        QuizDetails();\n",
    "        System.exit(0);\n",
    "    }\n",
    "    \n",
    "    /* This allows the programmer to call this method and ask a question or message\n",
    "    as its argument and allow the user to answer the question in the next line. \n",
    "    Then the input data can be used further on in the program when returned. */\n",
    "    public static String inputString(String message)\n",
    "    {\n",
    "        Scanner scanner = new Scanner(System.in);\n",
    "        String answer;\n",
    "        System.out.println(message);\n",
    "        answer = scanner.nextLine();\n",
    "        return answer;\n",
    "    } // END inputString\n",
    "    \n",
    "    /* This method asks a question to the user and then waits for the user to type an integer response which is\n",
    "    returned as a result of the method. */\n",
    "    public static int inputInt(String message)\n",
    "    {\n",
    "        Scanner scanner = new Scanner(System.in);\n",
    "        String textInput;\n",
    "        int numberInput;\n",
    "        System.out.println(message);\n",
    "        textInput = scanner.nextLine();\n",
    "        numberInput = Integer.parseInt(textInput);\n",
    "        return numberInput;\n",
    "    } // END inputInt\n",
    "    \n",
    "    /* This method creates and intialises a question record by setting the question for that record,\n",
    "    the answers and their points. It then returns that record stored in a variable by returning \n",
    "    the value stored in that variable. */\n",
    "    public static QuizQuestion createQuestion(String question1, String answer1, int point_score1,\n",
    "                                              String answer2, int point_score2, String answer3, int point_score3)\n",
    "    {\n",
    "        QuizQuestion question_1 = new QuizQuestion();\n",
    "        question_1.question = question1;\n",
    "        question_1.answer_1 = answer1;\n",
    "        question_1.point_score_1 = point_score1;\n",
    "        question_1.answer_2 = answer2;\n",
    "        question_1.point_score_2 = point_score2;\n",
    "        question_1.answer_3 = answer3;\n",
    "        question_1.point_score_3 = point_score3;\n",
    "        return question_1;\n",
    "    } // END createQuestion\n",
    "    \n",
    "    // This method retrieves the string question from a question record from its question field.\n",
    "    public static String getQuestion(QuizQuestion question1)\n",
    "    {\n",
    "        return question1.question;\n",
    "    } // END getQuestion\n",
    "    \n",
    "    // This method retrieves the string answer 1 from a question record from its answer_1 field.\n",
    "    public static String getAnswer1(QuizQuestion question1)\n",
    "    {\n",
    "        return question1.answer_1;\n",
    "    } // END getAnswer1\n",
    "    \n",
    "    // This method retrieves the string answer 2 from a question record from its answer_2 field.\n",
    "    public static String getAnswer2(QuizQuestion question1)\n",
    "    {\n",
    "        return question1.answer_2;\n",
    "    } // END getAnswer2\n",
    "    \n",
    "    // This method retrieves the string answer 3 from a question record from its answer_3 field.\n",
    "    public static String getAnswer3(QuizQuestion question1)\n",
    "    {\n",
    "        return question1.answer_3;\n",
    "    } // END getAnswer3\n",
    "    \n",
    "    // This method retrieves the integer points of answer 1 from a question record from its point_score_1 field.\n",
    "    public static int getPoints1(QuizQuestion question1)\n",
    "    {\n",
    "        return question1.point_score_1;\n",
    "    } // END getPoints1\n",
    "    \n",
    "    // This method retrieves the integer points of answer 2 from a question record from its point_score_2 field.\n",
    "    public static int getPoints2(QuizQuestion question1)\n",
    "    {\n",
    "        return question1.point_score_2;\n",
    "    } // END getPoints2\n",
    "    \n",
    "    // This method retrieves the integer points of answer 3 from a question record from its point_score_3 field.\n",
    "    public static int getPoints3(QuizQuestion question1)\n",
    "    {\n",
    "        return question1.point_score_3;\n",
    "    } // END getPoints3\n",
    "    \n",
    "    /* This method creates and writes the first question on actors and its \n",
    "    answers and points on a text file and saves it and returns the file name as a result. */\n",
    "    public static String fileOutputQuestion1() throws IOException\n",
    "    {\n",
    "        String question1 = \"actors.txt\";\n",
    "        PrintWriter outputStream = new PrintWriter(new FileWriter(question1));\n",
    "        outputStream.println(\"Out of the three options: Option 1: Rami Malek, Option 2: Adam Sandler, \" +\n",
    "                \"Option 3: Denzel Washington, Who is an Oscar winning actor?\");\n",
    "        outputStream.println(\"Rami Malek\");\n",
    "        outputStream.println(\"20\");\n",
    "        outputStream.println(\"Adam Sandler\");\n",
    "        outputStream.println(\"5\");\n",
    "        outputStream.println(\"Denzel Washington\");\n",
    "        outputStream.println(\"75\");\n",
    "        outputStream.close();\n",
    "        return question1;\n",
    "    } // END fileOutputQuestion1\n",
    "    \n",
    "    /* This method creates and writes the second question on presidents and its \n",
    "    answers and points on a text file and saves it and returns the file name as a result. */\n",
    "    public static String fileOutputQuestion2() throws IOException\n",
    "    {\n",
    "        String question2 = \"presidents.txt\";\n",
    "        PrintWriter outputStream = new PrintWriter(new FileWriter(question2));\n",
    "        outputStream.println(\"Out of the three options: Option 1: Benjamin Franklin, Option 2: George Washington, \" +\n",
    "                \"Option 3: Barack Obama, Who is an American president?\");\n",
    "        outputStream.println(\"Benjamin Franklin\");\n",
    "        outputStream.println(\"12\");\n",
    "        outputStream.println(\"George Washington\");\n",
    "        outputStream.println(\"28\");\n",
    "        outputStream.println(\"Barack Obama\");\n",
    "        outputStream.println(\"60\");\n",
    "        outputStream.close();\n",
    "        return question2;\n",
    "    } // END fileOutputQuestion2\n",
    "    \n",
    "    /* This method creates and writes the third question on cities and its \n",
    "    answers and points on a text file and saves it and returns the file name as a result. */\n",
    "    public static String fileOutputQuestion3() throws  IOException\n",
    "    {\n",
    "        String question3 = \"cities.txt\";\n",
    "        PrintWriter outputStream = new PrintWriter(new FileWriter(question3));\n",
    "        outputStream.println(\"Out of the three options: Option 1: Agra, Option 2: Mumbai, \" +\n",
    "                \"Option 3: Hyderabad, Which city is India?\");\n",
    "        outputStream.println(\"Agra\");\n",
    "        outputStream.println(\"25\");\n",
    "        outputStream.println(\"Mumbai\");\n",
    "        outputStream.println(\"63\");\n",
    "        outputStream.println(\"Hyderabad\");\n",
    "        outputStream.println(\"12\");\n",
    "        outputStream.close();\n",
    "        return question3;\n",
    "    } // END fileOutputQuestion3\n",
    "    \n",
    "    /* This method reads the file containing the question, answers and points in order to create a record holding\n",
    "    that data and return that record as a result. */\n",
    "    public static QuizQuestion fileInputQuestion(String question_file) throws IOException\n",
    "    {\n",
    "        BufferedReader inputStream = new BufferedReader(new FileReader(question_file));\n",
    "        String question = inputStream.readLine();\n",
    "        String answer1 = inputStream.readLine();\n",
    "        int score1 = Integer.parseInt(inputStream.readLine());\n",
    "        String answer2 = inputStream.readLine();\n",
    "        int score2 = Integer.parseInt(inputStream.readLine());\n",
    "        String answer3 = inputStream.readLine();\n",
    "        int score3 = Integer.parseInt(inputStream.readLine());\n",
    "        inputStream.close();\n",
    "        QuizQuestion questionRecord = createQuestion(question, answer1, score1, answer2, score2, answer3, score3);\n",
    "        return questionRecord;\n",
    "    } // END fileInputQuestion\n",
    "    \n",
    "    /* This creates a question bank storing the question records \n",
    "    which hold the questions and their data into an array and returning that array as a result. */\n",
    "    public static QuizQuestion[] createBank() throws IOException\n",
    "    {\n",
    "        String question1_file = fileOutputQuestion1();\n",
    "        String question2_file = fileOutputQuestion2();\n",
    "        String question3_file = fileOutputQuestion3();\n",
    "        QuizQuestion question1 = fileInputQuestion(question1_file);\n",
    "        QuizQuestion question2 = fileInputQuestion(question2_file);\n",
    "        QuizQuestion question3 = fileInputQuestion(question3_file);\n",
    "        QuizQuestion [] Question_Bank = new QuizQuestion[3];\n",
    "        Question_Bank [0] = question1;\n",
    "        Question_Bank [1] = question2;\n",
    "        Question_Bank [2] = question3;\n",
    "        return Question_Bank;\n",
    "    } // END createBank\n",
    "    \n",
    "    /* This method stores the total score the user gets when they have answered a question and tells the user how\n",
    "    points they recieve for that answer and return the score value as a result. */\n",
    "    public static int Question_score(QuizQuestion question1, String answer)\n",
    "    {\n",
    "        int score2;\n",
    "        if (answer.equals(getAnswer1(question1)))\n",
    "        {\n",
    "            score2 = getPoints1(question1);\n",
    "            System.out.println(\"This answer gives you \" + score2 + \" points.\");\n",
    "        }\n",
    "        else if (answer.equals(getAnswer2(question1)))\n",
    "        {\n",
    "            score2 = getPoints2(question1);\n",
    "            System.out.println(\"This answer gives you \" + score2 + \" points.\");\n",
    "        }\n",
    "        else if (answer.equals(getAnswer3(question1)))\n",
    "        {\n",
    "            score2 = getPoints3(question1);\n",
    "            System.out.println(\"This answer gives you \" + score2 + \" points.\");\n",
    "        }\n",
    "        else\n",
    "        {\n",
    "            score2 = 100;\n",
    "            System.out.println(\"This is not one of the options\");\n",
    "            System.out.println(\"This answer gives you 100 points.\");\n",
    "        }\n",
    "        return score2;\n",
    "    } // END Question_score\n",
    "    \n",
    "    /* This method asks the user which question they want to answer and gets a response from the user and then\n",
    "    user answers the question and stores the score they get and returns the score as a result. */\n",
    "    public static int printQuestion(QuizQuestion [] question_bank)\n",
    "    {\n",
    "        int score = 0;\n",
    "        int choice = inputInt(\"Out of question 1, 2 or 3, which one do you want to answer?\");\n",
    "        if (choice <= 3 & choice >= 1)\n",
    "        {\n",
    "            QuizQuestion question_used = question_bank[(choice - 1)];\n",
    "            String answer = inputString(getQuestion(question_used));\n",
    "            score = Question_score(question_used, answer);\n",
    "        }\n",
    "        else\n",
    "        {\n",
    "            System.out.println(\"That is not an option\");\n",
    "        }\n",
    "        return score;\n",
    "    } // END printQuestion\n",
    "    \n",
    "    /* This method is a primitive method of ADT TotalScore which creates a record holding name and score of user doing\n",
    "    the quiz and returns that record as a result. */\n",
    "    public static TotalScore createScore(String given_name, String given_score)\n",
    "    {\n",
    "        TotalScore player = new TotalScore();\n",
    "        player.name = given_name;\n",
    "        player.score = given_score;\n",
    "        return player;\n",
    "    } // END createScore\n",
    "    \n",
    "    /* This primitive method of ADT TotalScore add to an existing array that is of type \n",
    "    string which holds the name and score of each user. */\n",
    "    public static void AddToArray(String [] scoreArray, int position, TotalScore player)\n",
    "    {\n",
    "        scoreArray [position] = player.name + \" has score of \" + player.score + \" points.\";\n",
    "        return;\n",
    "    } // END AddToArray\n",
    "    \n",
    "    // This primitive method of ADT TotalScore prints the final total scores and names of the users doing the quiz.\n",
    "    public static void printScores(String [] scoreArray)\n",
    "    {\n",
    "        System.out.println(\"The scores of each user:\");\n",
    "        for (int i=0; i<scoreArray.length; i++)\n",
    "        {\n",
    "            System.out.println(scoreArray[i]);\n",
    "        }\n",
    "        System.out.println();\n",
    "        return;\n",
    "    } // END printScores\n",
    "    \n",
    "    /* This method creates a leaderboard of the scores using a sort algorithm where the user with least points\n",
    "    is first while the user with the most points is last. */\n",
    "    public static void createTableScore(int [] board)\n",
    "    {\n",
    "        String option = inputString(\"Would you like to see the leaderboard? (Y/N)\");\n",
    "        if (option.equals(\"Y\"))\n",
    "        {\n",
    "            int temporary = 0;\n",
    "            for (int pass=0; pass<board.length; pass++)\n",
    "            {\n",
    "                for (int b=1; b<board.length-pass; b++)\n",
    "                {\n",
    "                    if (board[b-1] > board[b])\n",
    "                    {\n",
    "                        temporary = board[b-1];\n",
    "                        board[b-1] = board[b];\n",
    "                        board[b] = temporary;\n",
    "                    }\n",
    "                }\n",
    "            }\n",
    "        }\n",
    "        else\n",
    "        {\n",
    "            System.out.println(\"Thank you for taking part in the Quiz.\");\n",
    "            System.exit(0);\n",
    "        }\n",
    "        return;\n",
    "    } // END createTableScore\n",
    "    \n",
    "    // This method prints the leaderboard of the scores where first has least points and last has most points.\n",
    "    public static void printTableScore(int [] board)\n",
    "    {\n",
    "        for (int i=0; i<board.length; i++)\n",
    "        {\n",
    "            System.out.println((i + 1) + \": \" + board[i] + \" points.\");\n",
    "        }\n",
    "        return;\n",
    "    } // END printTableScore\n",
    "    \n",
    "    /* This is the method doing all the work which asks the user how many people are doing the quiz and then lets\n",
    "    each user do the quiz and ask if they want to answer another question and tallys up each users total scores\n",
    "    and prints the scores and also prints a leaderboard if the user wants to see it. */\n",
    "    public static void QuizDetails() throws IOException\n",
    "    {\n",
    "        final QuizQuestion [] Quiz_questions = createBank();\n",
    "        final int number_of_times = inputInt(\"How many people want to do the Quiz?\");\n",
    "        int [] board = new int[number_of_times];\n",
    "        String [] playersScores = new String[number_of_times];\n",
    "        for (int i=0; i<number_of_times; i++)\n",
    "        {\n",
    "            System.out.println();\n",
    "            String user_name = \"Person \" + (i + 1);\n",
    "            System.out.println(user_name + \" to answer question from question bank:\");\n",
    "            int total = 0;\n",
    "            int total2 = 0;\n",
    "            String tries = \"Y\";\n",
    "            while (tries.equals(\"Y\"))\n",
    "            {\n",
    "                total = printQuestion(Quiz_questions);\n",
    "                total2 = total2 + total;\n",
    "                tries = inputString(\"Do you want to answer another question (Y/N)\");\n",
    "            }\n",
    "            TotalScore player = createScore(user_name, Integer.toString(total2));\n",
    "            AddToArray(playersScores, i, player);\n",
    "            board [i] = total2;\n",
    "            System.out.println();\n",
    "        }\n",
    "        printScores(playersScores);\n",
    "        createTableScore(board);\n",
    "        printTableScore(board);\n",
    "        return;\n",
    "    } // END QuizDetails\n",
    "}"
   ]
  },
  {
   "cell_type": "markdown",
   "metadata": {},
   "source": [
    "**END OF LITERATE DOCUMENT**"
   ]
  }
 ],
 "metadata": {
  "kernelspec": {
   "display_name": "Java",
   "language": "java",
   "name": "java"
  },
  "language_info": {
   "codemirror_mode": "java",
   "file_extension": ".jshell",
   "mimetype": "text/x-java-source",
   "name": "Java",
   "pygments_lexer": "java",
   "version": "11.0.8+10-LTS"
  }
 },
 "nbformat": 4,
 "nbformat_minor": 4
}
